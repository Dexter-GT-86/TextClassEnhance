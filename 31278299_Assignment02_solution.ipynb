{
 "cells": [
  {
   "cell_type": "markdown",
   "metadata": {},
   "source": [
    "# <span style=\"color:#0b486b\">  FIT5215: Deep Learning (2023)</span>\n",
    "***\n",
    "*CE/Lecturer:* Dr **Trung Le** | trunglm@monash.edu <br/>\n",
    "*Head Tutor:* Mr **Tuan Nguyen** | tuan.nguyen@monash.edu <br/>\n",
    "<br/>\n",
    "Department of Data Science and AI, Faculty of Information Technology, Monash University, Australia\n",
    "***"
   ]
  },
  {
   "cell_type": "markdown",
   "metadata": {},
   "source": [
    "# <span style=\"color:#0b486b\">  Student Information</span>\n",
    "Surname: **[Zhang]**  <br/>\n",
    "Firstname: **[Hengyu ]**    <br/>\n",
    "Student ID: **[31278299 ]**    <br/>\n",
    "Email: **[hzha0195@student.monash.edu ]**    <br/>\n",
    "Your tutorial time: **[Thu 1.00pm-3.00pm ]**    <br/>\n",
    "***"
   ]
  },
  {
   "cell_type": "markdown",
   "metadata": {},
   "source": [
    "## <span style=\"color:#0b486b\">Assignment 02: Neural Embedding and Sequence Modelling</span>\n",
    "### Due: <span style=\"color:red\">11:59pm 22 October 2023</span>  (Sunday)\n",
    "\n",
    "#### <span style=\"color:red\">Important note:</span> This is an **individual** assignment. It contributes **20%** to you final mark. Read the assignment instruction carefully."
   ]
  },
  {
   "cell_type": "markdown",
   "metadata": {},
   "source": [
    "## <span style=\"color:#0b486b\">Instructions</span>\n",
    "\n",
    "This notebook has been prepared for your to complete Assignment 2. The theme of this assignment is about practical machine learning knowledge and skills in deep neural networks, word embedding and text analytics. Some sections have been partially completed to help you get\n",
    "started. **The total marks for this notebook is 100**."
   ]
  },
  {
   "cell_type": "markdown",
   "metadata": {},
   "source": [
    "* Before you start, read the entire notebook carefully once to understand what you need to do. <br><br>\n",
    "* For each cell marked with **#YOU ARE REQUIRED TO INSERT YOUR CODES IN THIS CELL**, there will be places where you **must** supply your own codes when instructed. <br>\n",
    "\n",
    "This assignment contains **four** parts:\n",
    "\n",
    "* Part 1: Questions on downloading and preprocessing data **[5 points]**\n",
    "* Part 2: Questions on using Word2Vect to transform texts to vectors **[20 points]**\n",
    "* Part 3: Coding assessment on BERT and CLIP for a feature extraction **[15 points]**\n",
    "* Part 4: Coding assessment on RNNs for sequence modeling and neural embedding **[60 points]**\n",
    "\n",
    "\n",
    "**Hint**: This assignment was essentially designed based on the lectures and tutorials sessions covered from Weeks 6 to 10. You are strongly recommended to go through these contents thoroughly which might help you to complete this assignment."
   ]
  },
  {
   "cell_type": "markdown",
   "metadata": {},
   "source": [
    "## <span style=\"color:#0b486b\">What to submit</span>\n",
    "\n",
    "This assignment is to be completed individually and submitted to Moodle unit site. **By the due date, you are required to submit one  <span style=\"color:red; font-weight:bold\">single zip file, named xxx_assignment02_solution.zip</span> where `xxx` is your student ID, to the corresponding Assignment (Dropbox) in Moodle**. "
   ]
  },
  {
   "cell_type": "markdown",
   "metadata": {},
   "source": [
    "***For example, if your student ID is <span style=\"color:red; font-weight:bold\">12356</span>, then gather all of your assignment solution to folder, create a zip file named <span style=\"color:red; font-weight:bold\">123456_assignment02_solution.zip</span> and submit this file.***"
   ]
  },
  {
   "cell_type": "markdown",
   "metadata": {},
   "source": [
    "Within this zip folder, you **must** submit the following files:\n",
    "1.\t**Assignment02_solution.ipynb**:  this is your Python notebook solution source file.\n",
    "1.\t**Assignment02_output.html**: this is the output of your Python notebook solution *exported* in html format.\n",
    "1.\tAny **extra files or folder** needed to complete your assignment (e.g., images used in your answers)."
   ]
  },
  {
   "cell_type": "markdown",
   "metadata": {},
   "source": [
    "## <span style=\"color:#0b486b\">Set random seeds</span>"
   ]
  },
  {
   "cell_type": "markdown",
   "metadata": {},
   "source": [
    "We start with importing tensorflow and numpy and setting random seeds for TF and numpy. You can use any seeds you prefer."
   ]
  },
  {
   "cell_type": "code",
   "execution_count": 1,
   "metadata": {},
   "outputs": [],
   "source": [
    "import numpy as np\n",
    "import tensorflow as tf\n",
    "\n",
    "tf.random.set_seed(6789)\n",
    "np.random.seed(6789)"
   ]
  },
  {
   "cell_type": "markdown",
   "metadata": {},
   "source": [
    "## <span style=\"color:#0b486b\">Part 1: Download and preprocess the data</span>\n",
    "\n",
    "<div style=\"text-align: right\"><span style=\"color:red; font-weight:bold\">[Total marks for this part: 5 points]<span></div>"
   ]
  },
  {
   "cell_type": "markdown",
   "metadata": {},
   "source": [
    "The dataset we use for this assignment is a question classification dataset for which the train set consists of $5,500$ questions belonging to 6 coarse question categories including:\n",
    "- abbreviation (ABBR), \n",
    "- entity (ENTY), \n",
    "- description (DESC), \n",
    "- human (HUM), \n",
    "- location (LOC) and \n",
    "- numeric (NUM).\n"
   ]
  },
  {
   "cell_type": "markdown",
   "metadata": {},
   "source": [
    "Preprocessing data is an inital and important step in any machine learning or deep learning projects. The following *DataManager* class helps you to download data and preprocess data for the later questions of this assignment. "
   ]
  },
  {
   "cell_type": "code",
   "execution_count": 2,
   "metadata": {},
   "outputs": [],
   "source": [
    "import os\n",
    "import zipfile\n",
    "import collections\n",
    "from six.moves import range\n",
    "from six.moves.urllib.request import urlretrieve\n",
    "from sklearn import preprocessing\n",
    "from sklearn.model_selection import train_test_split\n",
    "import matplotlib.pyplot as plt\n",
    "plt.style.use('ggplot')\n",
    "\n",
    "class DataManager:\n",
    "    def __init__(self, verbose=True, maxlen= 50, random_state=6789):\n",
    "        self.verbose = verbose\n",
    "        self.max_sentence_len = 0\n",
    "        self.str_questions = list()\n",
    "        self.str_labels = list()\n",
    "        self.numeral_labels = list()\n",
    "        self.maxlen = maxlen\n",
    "        self.numeral_data = list()\n",
    "        self.random_state = random_state\n",
    "        self.random = np.random.RandomState(random_state)\n",
    "        \n",
    "    @staticmethod\n",
    "    def maybe_download(dir_name, file_name, url, verbose= True):\n",
    "        if not os.path.exists(dir_name):\n",
    "            os.mkdir(dir_name)\n",
    "        if not os.path.exists(os.path.join(dir_name, file_name)):\n",
    "            urlretrieve(url + file_name, os.path.join(dir_name, file_name))\n",
    "        if verbose:\n",
    "            print(\"Downloaded successfully {}\".format(file_name))\n",
    "    \n",
    "    def read_data(self, dir_name, file_names):\n",
    "        self.str_questions= list(); self.str_labels= list()\n",
    "        for file_name in file_names:\n",
    "            file_path= os.path.join(dir_name, file_name)\n",
    "            with open(file_path, \"r\", encoding=\"latin-1\") as f:\n",
    "                for row in f:\n",
    "                    row_str= row.split(\":\")\n",
    "                    label, question= row_str[0], row_str[1]\n",
    "                    question= question.lower()\n",
    "                    self.str_labels.append(label)\n",
    "                    self.str_questions.append(question[0:-1])\n",
    "                    if self.max_sentence_len < len(self.str_questions[-1]):\n",
    "                        self.max_sentence_len= len(self.str_questions[-1])\n",
    "         \n",
    "        # turns labels into numbers\n",
    "        le= preprocessing.LabelEncoder()\n",
    "        le.fit(self.str_labels)\n",
    "        self.numeral_labels = np.array(le.transform(self.str_labels))\n",
    "        self.str_classes= le.classes_\n",
    "        self.num_classes= len(self.str_classes)\n",
    "        if self.verbose:\n",
    "            print(\"\\nSample questions... \\n\")\n",
    "            print(self.str_questions[0:5])\n",
    "            print(\"Labels {}\\n\\n\".format(self.str_classes))\n",
    "    \n",
    "    def manipulate_data(self):\n",
    "        tokenizer = tf.keras.preprocessing.text.Tokenizer()\n",
    "        tokenizer.fit_on_texts(self.str_questions)\n",
    "        self.numeral_data = tokenizer.texts_to_sequences(self.str_questions)\n",
    "        self.numeral_data = tf.keras.preprocessing.sequence.pad_sequences(self.numeral_data, padding='post', truncating= 'post', maxlen= self.maxlen)\n",
    "        self.word2idx = tokenizer.word_index\n",
    "        self.word2idx = {k:v for k,v in self.word2idx.items()}\n",
    "        self.idx2word = {v:k for k,v in self.word2idx.items()}\n",
    "        self.vocab_size = len(self.word2idx)\n",
    "    \n",
    "    def train_valid_split(self, train_ratio=0.9):\n",
    "        idxs = np.random.permutation(np.arange(len(self.str_questions)))\n",
    "        train_size = int(train_ratio*len(idxs)) +1\n",
    "        self.train_str_questions, self.valid_str_questions = self.str_questions[0:train_size], self.str_questions[train_size:]\n",
    "        self.train_numeral_data, self.valid_numeral_data = self.numeral_data[0:train_size], self.numeral_data[train_size:]\n",
    "        self.train_numeral_labels, self.valid_numeral_labels = self.numeral_labels[0:train_size], self.numeral_labels[train_size:]\n",
    "        self.tf_train_set = tf.data.Dataset.from_tensor_slices((self.train_numeral_data, self.train_numeral_labels))\n",
    "        self.tf_valid_set = tf.data.Dataset.from_tensor_slices((self.valid_numeral_data, self.valid_numeral_labels))"
   ]
  },
  {
   "cell_type": "code",
   "execution_count": 3,
   "metadata": {},
   "outputs": [
    {
     "name": "stdout",
     "output_type": "stream",
     "text": [
      "Loading data...\n",
      "Downloaded successfully train_1000.label\n",
      "Downloaded successfully TREC_10.label\n",
      "\n",
      "Sample questions... \n",
      "\n",
      "['manner how did serfdom develop in and then leave russia ?', 'cremat what films featured the character popeye doyle ?', \"manner how can i find a list of celebrities ' real names ?\", 'animal what fowl grabs the spotlight after the chinese year of the monkey ?', 'exp what is the full form of .com ?']\n",
      "Labels ['ABBR' 'DESC' 'ENTY' 'HUM' 'LOC' 'NUM']\n",
      "\n",
      "\n"
     ]
    }
   ],
   "source": [
    "print('Loading data...')\n",
    "DataManager.maybe_download(\"Data\", \"train_1000.label\", \"http://cogcomp.org/Data/QA/QC/\")\n",
    "DataManager.maybe_download(\"Data\", \"TREC_10.label\", \"http://cogcomp.org/Data/QA/QC/\")\n",
    "\n",
    "dm = DataManager(maxlen=100)\n",
    "dm.read_data(\"Data/\", [\"train_1000.label\", \"TREC_10.label\"])   # read data\n",
    "# If you want to play around with a bigger dataset, you can try train_set.label"
   ]
  },
  {
   "cell_type": "code",
   "execution_count": 4,
   "metadata": {},
   "outputs": [],
   "source": [
    "dm.manipulate_data()\n",
    "dm.train_valid_split(train_ratio=0.8)"
   ]
  },
  {
   "cell_type": "markdown",
   "metadata": {},
   "source": [
    "You now have a data manager, named *dm* containing the training and validiation sets in both text and numeric forms. Your task is to play around and read this code to figure out the meanings of some important attributes that will be used in the next parts."
   ]
  },
  {
   "cell_type": "markdown",
   "metadata": {},
   "source": [
    "#### <span style=\"color:red\">**Question 1.1**</span> \n",
    "**What is the purpose of `self.train_str_questions` and `self.train_numeral_labels`? Write your code to print out the first five questions with labels in the training set.**\n",
    "\n",
    "<div style=\"text-align: right\"><span style=\"color:red\">[1 point]</span></div> "
   ]
  },
  {
   "cell_type": "markdown",
   "metadata": {},
   "source": [
    "#Your answer here\n",
    "\n",
    "The purpose of self.train_str_questions is to store the training set's questions in string/textual form. These are the actual questions in the human-readable format.\n",
    "\n",
    "The purpose of self.train_numeral_labels is to store the corresponding labels of the training set's questions in a numeric format. Rather than using the string representation like \"ABBR\", \"DESC\", \"ENTY\", etc., these labels have been transformed into numbers for computational efficiency and ease of use in modeling.\n"
   ]
  },
  {
   "cell_type": "code",
   "execution_count": 5,
   "metadata": {},
   "outputs": [
    {
     "name": "stdout",
     "output_type": "stream",
     "text": [
      "First five questions in the training set:\n",
      "1. manner how did serfdom develop in and then leave russia ?\n",
      "2. cremat what films featured the character popeye doyle ?\n",
      "3. manner how can i find a list of celebrities ' real names ?\n",
      "4. animal what fowl grabs the spotlight after the chinese year of the monkey ?\n",
      "5. exp what is the full form of .com ?\n",
      "\n",
      "Corresponding labels for the first five questions:\n",
      "DESC\n",
      "ENTY\n",
      "DESC\n",
      "ENTY\n",
      "ABBR\n"
     ]
    }
   ],
   "source": [
    "#Your code here\n",
    "# Print the first five questions in the training set\n",
    "print(\"First five questions in the training set:\")\n",
    "for i, question in enumerate(dm.train_str_questions[:5]):\n",
    "    print(f\"{i+1}. {question}\")\n",
    "\n",
    "# Print the corresponding labels for the first five questions\n",
    "print(\"\\nCorresponding labels for the first five questions:\")\n",
    "for label in dm.train_numeral_labels[:5]:\n",
    "    print(dm.str_classes[label])\n"
   ]
  },
  {
   "cell_type": "markdown",
   "metadata": {},
   "source": [
    "#### <span style=\"color:red\">**Question 1.2**</span> \n",
    "**What is the purpose of `self.train_numeral_data`? Write your code to print out the first five questions in the numeric format with labels in the training set.**\n",
    "\n",
    "<div style=\"text-align: right\"><span style=\"color:red\">[1 point]</span></div> "
   ]
  },
  {
   "cell_type": "markdown",
   "metadata": {},
   "source": [
    "#Your answer here\n",
    "\n",
    "The purpose of self.train_numeral_data is to store the training set's questions in a numeric format. Each word in the question is converted to a corresponding numeric value based on its mapping in the tokenizer's word index. This conversion is crucial for deep learning models as they operate on numbers (e.g., tensors) rather than raw text.\n"
   ]
  },
  {
   "cell_type": "code",
   "execution_count": 6,
   "metadata": {},
   "outputs": [
    {
     "name": "stdout",
     "output_type": "stream",
     "text": [
      "First five questions in numeric format:\n",
      "1. [  35   11   18 1030 1031    5   25  561 1032  562    0    0    0    0\n",
      "    0    0    0    0    0    0    0    0    0    0    0    0    0    0\n",
      "    0    0    0    0    0    0    0    0    0    0    0    0    0    0\n",
      "    0    0    0    0    0    0    0    0    0    0    0    0    0    0\n",
      "    0    0    0    0    0    0    0    0    0    0    0    0    0    0\n",
      "    0    0    0    0    0    0    0    0    0    0    0    0    0    0\n",
      "    0    0    0    0    0    0    0    0    0    0    0    0    0    0\n",
      "    0    0]\n",
      "2. [  43    2  563 1033    1  164 1034 1035    0    0    0    0    0    0\n",
      "    0    0    0    0    0    0    0    0    0    0    0    0    0    0\n",
      "    0    0    0    0    0    0    0    0    0    0    0    0    0    0\n",
      "    0    0    0    0    0    0    0    0    0    0    0    0    0    0\n",
      "    0    0    0    0    0    0    0    0    0    0    0    0    0    0\n",
      "    0    0    0    0    0    0    0    0    0    0    0    0    0    0\n",
      "    0    0    0    0    0    0    0    0    0    0    0    0    0    0\n",
      "    0    0]\n",
      "3. [  35   11   45   40   60    7  389    4 1036   88  295  165    0    0\n",
      "    0    0    0    0    0    0    0    0    0    0    0    0    0    0\n",
      "    0    0    0    0    0    0    0    0    0    0    0    0    0    0\n",
      "    0    0    0    0    0    0    0    0    0    0    0    0    0    0\n",
      "    0    0    0    0    0    0    0    0    0    0    0    0    0    0\n",
      "    0    0    0    0    0    0    0    0    0    0    0    0    0    0\n",
      "    0    0    0    0    0    0    0    0    0    0    0    0    0    0\n",
      "    0    0]\n",
      "4. [  34    2 1037 1038    1 1039  232    1  564   50    4    1 1040    0\n",
      "    0    0    0    0    0    0    0    0    0    0    0    0    0    0\n",
      "    0    0    0    0    0    0    0    0    0    0    0    0    0    0\n",
      "    0    0    0    0    0    0    0    0    0    0    0    0    0    0\n",
      "    0    0    0    0    0    0    0    0    0    0    0    0    0    0\n",
      "    0    0    0    0    0    0    0    0    0    0    0    0    0    0\n",
      "    0    0    0    0    0    0    0    0    0    0    0    0    0    0\n",
      "    0    0]\n",
      "5. [ 61   2   3   1 390 233   4 199   0   0   0   0   0   0   0   0   0   0\n",
      "   0   0   0   0   0   0   0   0   0   0   0   0   0   0   0   0   0   0\n",
      "   0   0   0   0   0   0   0   0   0   0   0   0   0   0   0   0   0   0\n",
      "   0   0   0   0   0   0   0   0   0   0   0   0   0   0   0   0   0   0\n",
      "   0   0   0   0   0   0   0   0   0   0   0   0   0   0   0   0   0   0\n",
      "   0   0   0   0   0   0   0   0   0   0]\n",
      "\n",
      "Corresponding labels for the first five questions:\n",
      "DESC\n",
      "ENTY\n",
      "DESC\n",
      "ENTY\n",
      "ABBR\n"
     ]
    }
   ],
   "source": [
    "#Your code here\n",
    "# Print the first five questions in the training set in numeric format\n",
    "print(\"First five questions in numeric format:\")\n",
    "for i, question in enumerate(dm.train_numeral_data[:5]):\n",
    "    print(f\"{i+1}. {question}\")\n",
    "\n",
    "# Print the corresponding labels for the first five questions\n",
    "print(\"\\nCorresponding labels for the first five questions:\")\n",
    "for label in dm.train_numeral_labels[:5]:\n",
    "    print(dm.str_classes[label])\n"
   ]
  },
  {
   "cell_type": "markdown",
   "metadata": {},
   "source": [
    "#### <span style=\"color:red\">**Question 1.3**</span> \n",
    "**What is the purpose of two dictionaries: `self.word2idx` and `self.idx2word`? Write your code to print out the first five key-value pairs of those dictionaries.**\n",
    "\n",
    "<div style=\"text-align: right\"><span style=\"color:red\">[1 point]</span></div> "
   ]
  },
  {
   "cell_type": "code",
   "execution_count": null,
   "metadata": {},
   "outputs": [],
   "source": []
  },
  {
   "cell_type": "markdown",
   "metadata": {},
   "source": [
    "#Your answer here\n",
    "\n",
    " The purpose of the two dictionaries self.word2idx and self.idx2word is to create a mapping between words and their corresponding numeric values:\n",
    "\n",
    "self.word2idx: This dictionary maps words to their respective numeric values or indices. It's useful for converting a textual question into its numeric format.\n",
    "self.idx2word: This dictionary maps numeric values or indices back to their corresponding words. It's useful for converting a numeric representation of a question back into its textual form.\n",
    "\n"
   ]
  },
  {
   "cell_type": "code",
   "execution_count": 7,
   "metadata": {},
   "outputs": [
    {
     "name": "stdout",
     "output_type": "stream",
     "text": [
      "First five key-value pairs of word2idx:\n",
      "the: 1\n",
      "what: 2\n",
      "is: 3\n",
      "of: 4\n",
      "in: 5\n",
      "\n",
      "First five key-value pairs of idx2word:\n",
      "1: the\n",
      "2: what\n",
      "3: is\n",
      "4: of\n",
      "5: in\n"
     ]
    }
   ],
   "source": [
    "#Your code here\n",
    "#Your code here\n",
    "\n",
    "print(\"First five key-value pairs of word2idx:\")\n",
    "for i, (key, value) in enumerate(dm.word2idx.items()):\n",
    "    if i >= 5:\n",
    "        break\n",
    "    print(f\"{key}: {value}\")\n",
    "\n",
    "print(\"\\nFirst five key-value pairs of idx2word:\")\n",
    "for i, (key, value) in enumerate(dm.idx2word.items()):\n",
    "    if i >= 5:\n",
    "        break\n",
    "    print(f\"{key}: {value}\")"
   ]
  },
  {
   "cell_type": "markdown",
   "metadata": {},
   "source": [
    "#### <span style=\"color:red\">**Question 1.4**</span> \n",
    "**What is the purpose of `self.tf_train_set`? Write your code to print out the first five items of `self.tf_train_set`.**\n",
    "\n",
    "<div style=\"text-align: right\"><span style=\"color:red\">[1 point]</span></div> "
   ]
  },
  {
   "cell_type": "markdown",
   "metadata": {},
   "source": [
    "#Your answer here\n",
    "\n"
   ]
  },
  {
   "cell_type": "code",
   "execution_count": 8,
   "metadata": {},
   "outputs": [
    {
     "name": "stdout",
     "output_type": "stream",
     "text": [
      "First five items of tf_train_set:\n",
      "1. Question: [  35   11   18 1030 1031    5   25  561 1032  562    0    0    0    0\n",
      "    0    0    0    0    0    0    0    0    0    0    0    0    0    0\n",
      "    0    0    0    0    0    0    0    0    0    0    0    0    0    0\n",
      "    0    0    0    0    0    0    0    0    0    0    0    0    0    0\n",
      "    0    0    0    0    0    0    0    0    0    0    0    0    0    0\n",
      "    0    0    0    0    0    0    0    0    0    0    0    0    0    0\n",
      "    0    0    0    0    0    0    0    0    0    0    0    0    0    0\n",
      "    0    0], Label: DESC\n",
      "2. Question: [  43    2  563 1033    1  164 1034 1035    0    0    0    0    0    0\n",
      "    0    0    0    0    0    0    0    0    0    0    0    0    0    0\n",
      "    0    0    0    0    0    0    0    0    0    0    0    0    0    0\n",
      "    0    0    0    0    0    0    0    0    0    0    0    0    0    0\n",
      "    0    0    0    0    0    0    0    0    0    0    0    0    0    0\n",
      "    0    0    0    0    0    0    0    0    0    0    0    0    0    0\n",
      "    0    0    0    0    0    0    0    0    0    0    0    0    0    0\n",
      "    0    0], Label: ENTY\n",
      "3. Question: [  35   11   45   40   60    7  389    4 1036   88  295  165    0    0\n",
      "    0    0    0    0    0    0    0    0    0    0    0    0    0    0\n",
      "    0    0    0    0    0    0    0    0    0    0    0    0    0    0\n",
      "    0    0    0    0    0    0    0    0    0    0    0    0    0    0\n",
      "    0    0    0    0    0    0    0    0    0    0    0    0    0    0\n",
      "    0    0    0    0    0    0    0    0    0    0    0    0    0    0\n",
      "    0    0    0    0    0    0    0    0    0    0    0    0    0    0\n",
      "    0    0], Label: DESC\n",
      "4. Question: [  34    2 1037 1038    1 1039  232    1  564   50    4    1 1040    0\n",
      "    0    0    0    0    0    0    0    0    0    0    0    0    0    0\n",
      "    0    0    0    0    0    0    0    0    0    0    0    0    0    0\n",
      "    0    0    0    0    0    0    0    0    0    0    0    0    0    0\n",
      "    0    0    0    0    0    0    0    0    0    0    0    0    0    0\n",
      "    0    0    0    0    0    0    0    0    0    0    0    0    0    0\n",
      "    0    0    0    0    0    0    0    0    0    0    0    0    0    0\n",
      "    0    0], Label: ENTY\n",
      "5. Question: [ 61   2   3   1 390 233   4 199   0   0   0   0   0   0   0   0   0   0\n",
      "   0   0   0   0   0   0   0   0   0   0   0   0   0   0   0   0   0   0\n",
      "   0   0   0   0   0   0   0   0   0   0   0   0   0   0   0   0   0   0\n",
      "   0   0   0   0   0   0   0   0   0   0   0   0   0   0   0   0   0   0\n",
      "   0   0   0   0   0   0   0   0   0   0   0   0   0   0   0   0   0   0\n",
      "   0   0   0   0   0   0   0   0   0   0], Label: ABBR\n"
     ]
    }
   ],
   "source": [
    "#Your code here\n",
    "\n",
    "print(\"First five items of tf_train_set:\")\n",
    "for i, (question, label) in enumerate(dm.tf_train_set.take(5)):\n",
    "    print(f\"{i+1}. Question: {question.numpy()}, Label: {dm.str_classes[label.numpy()]}\")\n"
   ]
  },
  {
   "cell_type": "markdown",
   "metadata": {},
   "source": [
    "#### <span style=\"color:red\">**Question 1.5**</span> \n",
    "**What is the purpose of `self.tf_valid_set`? Write your code to print out the first five items of `self.tf_valid_set`.**\n",
    "\n",
    "<div style=\"text-align: right\"><span style=\"color:red\">[1 point]</span></div> "
   ]
  },
  {
   "cell_type": "markdown",
   "metadata": {},
   "source": [
    "#Your answer here\n",
    "\n"
   ]
  },
  {
   "cell_type": "code",
   "execution_count": 9,
   "metadata": {},
   "outputs": [
    {
     "name": "stdout",
     "output_type": "stream",
     "text": [
      "First five items of tf_valid_set:\n",
      "1. Question: [  23    2   23   13  243    3   53    1 3031   20    0    0    0    0\n",
      "    0    0    0    0    0    0    0    0    0    0    0    0    0    0\n",
      "    0    0    0    0    0    0    0    0    0    0    0    0    0    0\n",
      "    0    0    0    0    0    0    0    0    0    0    0    0    0    0\n",
      "    0    0    0    0    0    0    0    0    0    0    0    0    0    0\n",
      "    0    0    0    0    0    0    0    0    0    0    0    0    0    0\n",
      "    0    0    0    0    0    0    0    0    0    0    0    0    0    0\n",
      "    0    0], Label: LOC\n",
      "2. Question: [   6   12   98    1 3032    0    0    0    0    0    0    0    0    0\n",
      "    0    0    0    0    0    0    0    0    0    0    0    0    0    0\n",
      "    0    0    0    0    0    0    0    0    0    0    0    0    0    0\n",
      "    0    0    0    0    0    0    0    0    0    0    0    0    0    0\n",
      "    0    0    0    0    0    0    0    0    0    0    0    0    0    0\n",
      "    0    0    0    0    0    0    0    0    0    0    0    0    0    0\n",
      "    0    0    0    0    0    0    0    0    0    0    0    0    0    0\n",
      "    0    0], Label: HUM\n",
      "3. Question: [  34    2   14    1  248   49  648  802   74 3033   53    0    0    0\n",
      "    0    0    0    0    0    0    0    0    0    0    0    0    0    0\n",
      "    0    0    0    0    0    0    0    0    0    0    0    0    0    0\n",
      "    0    0    0    0    0    0    0    0    0    0    0    0    0    0\n",
      "    0    0    0    0    0    0    0    0    0    0    0    0    0    0\n",
      "    0    0    0    0    0    0    0    0    0    0    0    0    0    0\n",
      "    0    0    0    0    0    0    0    0    0    0    0    0    0    0\n",
      "    0    0], Label: ENTY\n",
      "4. Question: [   8    2    3    1  557  210    4 3034    0    0    0    0    0    0\n",
      "    0    0    0    0    0    0    0    0    0    0    0    0    0    0\n",
      "    0    0    0    0    0    0    0    0    0    0    0    0    0    0\n",
      "    0    0    0    0    0    0    0    0    0    0    0    0    0    0\n",
      "    0    0    0    0    0    0    0    0    0    0    0    0    0    0\n",
      "    0    0    0    0    0    0    0    0    0    0    0    0    0    0\n",
      "    0    0    0    0    0    0    0    0    0    0    0    0    0    0\n",
      "    0    0], Label: NUM\n",
      "5. Question: [   8   22    3    1 1004 3035 3036  193    0    0    0    0    0    0\n",
      "    0    0    0    0    0    0    0    0    0    0    0    0    0    0\n",
      "    0    0    0    0    0    0    0    0    0    0    0    0    0    0\n",
      "    0    0    0    0    0    0    0    0    0    0    0    0    0    0\n",
      "    0    0    0    0    0    0    0    0    0    0    0    0    0    0\n",
      "    0    0    0    0    0    0    0    0    0    0    0    0    0    0\n",
      "    0    0    0    0    0    0    0    0    0    0    0    0    0    0\n",
      "    0    0], Label: LOC\n"
     ]
    }
   ],
   "source": [
    "#Your code here\n",
    "\n",
    "print(\"First five items of tf_valid_set:\")\n",
    "for i, (question, label) in enumerate(dm.tf_valid_set.take(5)):\n",
    "    print(f\"{i+1}. Question: {question.numpy()}, Label: {dm.str_classes[label.numpy()]}\")\n",
    "\n"
   ]
  },
  {
   "cell_type": "markdown",
   "metadata": {},
   "source": [
    "## <span style=\"color:#0b486b\">Part 2: Using Word2Vect to transform texts to vectors </span>\n",
    "\n",
    "<div style=\"text-align: right\"><span style=\"color:red; font-weight:bold\">[Total marks for this part: 20 points]<span></div>"
   ]
  },
  {
   "cell_type": "markdown",
   "metadata": {},
   "source": [
    "In this part, you will be assessed on how to use a pretrained Word2Vect model for realizing a machine learning task. Basically, you will use this pretrained Word2Vect to transform the questions in the above dataset stored in the *data manager object dm* to numeric form for training a Support Vector Machine in sckit-learn.  "
   ]
  },
  {
   "cell_type": "code",
   "execution_count": 54,
   "metadata": {},
   "outputs": [],
   "source": [
    "import gensim.downloader as api\n",
    "from gensim.models import Word2Vec\n",
    "from sklearn.svm import SVC\n",
    "from sklearn.preprocessing import MinMaxScaler\n",
    "from sklearn.metrics import accuracy_score\n",
    "import gensim"
   ]
  },
  {
   "cell_type": "markdown",
   "metadata": {},
   "source": [
    "#### <span style=\"color:red\">**Question 2.1**</span> \n",
    "**Write code to download the pretrained model *glove-wiki-gigaword-100*. Note that this model transforms a word in its dictionary to a $100$ dimensional vector.**\n",
    "\n",
    "<div style=\"text-align: right\"><span style=\"color:red\">[2 points]</span></div> "
   ]
  },
  {
   "cell_type": "code",
   "execution_count": 57,
   "metadata": {},
   "outputs": [],
   "source": [
    "word2vect = api.load('glove-wiki-gigaword-100')"
   ]
  },
  {
   "cell_type": "markdown",
   "metadata": {},
   "source": [
    "#### <span style=\"color:red\">**Question 2.2**</span> \n",
    "\n",
    "**Write code for the function *get_word_vector(word, model)* used to transform a word to a vector using the pretrained Word2Vect model *model*. Note that for a word not in the vocabulary of our *word2vect*, you need to return a vector $0$ with 100 dimensions.**\n",
    "\n",
    "<div style=\"text-align: right\"><span style=\"color:red\">[3 points]</span></div> "
   ]
  },
  {
   "cell_type": "code",
   "execution_count": 12,
   "metadata": {},
   "outputs": [],
   "source": [
    "def get_word_vector(word, model):\n",
    "    try:\n",
    "       \n",
    "        vector = model[word]\n",
    "    except KeyError:\n",
    "\n",
    "        vector = np.zeros(100)\n",
    "    return vector\n"
   ]
  },
  {
   "cell_type": "markdown",
   "metadata": {},
   "source": [
    "#### <span style=\"color:red\">**Question 2.3**</span> \n",
    "\n",
    "**Write the code for the function `get_sentence_vector(sentence, important_score=None, model= None)`. Note that this function will transform a sentence to a 100-dimensional vector using the pretrained model *model*. In addition, the list *important_score* which has the same length as the *sentence* specifies the important scores of the words in the sentence. In your code, you first need to apply *softmax* function over *important_score* to obtain the important weight *important_weight* which forms a probability over the words of the sentence. Furthermore, the final vector of the sentence will be weighted sum of the individual vectors for words and the weights in *important_weight*.**\n",
    "- $important\\_weight = softmax(important\\_score)$.\n",
    "- $final\\_vector= important\\_weight[1]\\times v[1] + important\\_weight[2]\\times v[2] + ...+ important\\_weight[L]\\times v[L]$ where $L$ is the length of the sentence and $v[i]$ is the vector representation of the $i-th$  word in this sentence.\n",
    "\n",
    "**Note that if `important_score=None` is set by default, your function should return the average of all representation vectors corresponding to set `important_score=[1,1,...,1]`.**\n",
    "\n",
    "<div style=\"text-align: right\"><span style=\"color:red\">[5 points]</span></div> "
   ]
  },
  {
   "cell_type": "code",
   "execution_count": 13,
   "metadata": {},
   "outputs": [],
   "source": [
    "def get_sentence_vector(sentence, important_score=None, model= None):\n",
    "    #Insert your code here\n",
    "    def softmax(x):\n",
    "        e_x = np.exp(x - np.max(x))\n",
    "        return e_x / e_x.sum(axis=0)\n",
    "    \n",
    "    # Tokenize the sentence into words\n",
    "    words = sentence.split()\n",
    "    \n",
    "    # If important_score is None, create a list of ones\n",
    "    if important_score is None:\n",
    "        important_score = [1] * len(words)\n",
    "    \n",
    "    # Compute important_weight using softmax\n",
    "    important_weight = softmax(important_score)\n",
    "    \n",
    "    # Compute the weighted sum of word vectors\n",
    "    final_vector = np.zeros(100)\n",
    "    for word, weight in zip(words, important_weight):\n",
    "        word_vector = get_word_vector(word, model)\n",
    "        final_vector += weight * word_vector\n",
    "    \n",
    "    return final_vector"
   ]
  },
  {
   "cell_type": "markdown",
   "metadata": {},
   "source": [
    "#### <span style=\"color:red\">**Question 2.4**</span> \n",
    "\n",
    "**Write code to transform the training questions in *dm.train_str_questions* to feature vectors. Note that after running the following cell, you must have $X\\_train$ which is an numpy array of the feature vectors and $y\\_train$ which is an array of numeric labels (*Hint: dm.train_numeral_labels*). You can add more lines to the following cell if necessary. In addition, you should decide the *important_score* by yourself. For example, you might reckon that the 1st score is 1, the 2nd score is decayed by 0.9, the 3rd is decayed by 0.9, and so on.**\n",
    "\n",
    "<div style=\"text-align: right\"><span style=\"color:red\">[2 points]</span></div> "
   ]
  },
  {
   "cell_type": "code",
   "execution_count": 14,
   "metadata": {},
   "outputs": [
    {
     "name": "stdout",
     "output_type": "stream",
     "text": [
      "Transform training set to feature vectors...\n"
     ]
    }
   ],
   "source": [
    "print(\"Transform training set to feature vectors...\")\n",
    "\n",
    "X_train = np.array([get_sentence_vector(question, model=word2vect) for question in dm.train_str_questions])\n",
    "y_train = dm.train_numeral_labels\n"
   ]
  },
  {
   "cell_type": "markdown",
   "metadata": {},
   "source": [
    "#### <span style=\"color:red\">**Question 2.5**</span> \n",
    "\n",
    "**Write code to transform the training questions in *dm.valid_str_questions* to feature vectors. Note that after running the following cell, you must have $X\\_valid$ which is an numpy array of the feature vectors and $y\\_valid$ which is an array of numeric labels (*Hint: dm.valid_numeral_labels*). You can add more lines to the following cell if necessary. In addition, you should decide the *important_score* by yourself. For example, you might reckon that the 1st score is 1, the 2nd score is decayed by 0.9, the 3rd is decayed by 0.9, and so on.**\n",
    "\n",
    "<div style=\"text-align: right\"><span style=\"color:red\">[2 points]</span></div> "
   ]
  },
  {
   "cell_type": "code",
   "execution_count": 15,
   "metadata": {},
   "outputs": [
    {
     "name": "stdout",
     "output_type": "stream",
     "text": [
      "Transform valid set to feature vectors...\n"
     ]
    }
   ],
   "source": [
    "print(\"Transform valid set to feature vectors...\")\n",
    "\n",
    "X_valid = np.array([get_sentence_vector(question, model=word2vect) for question in dm.valid_str_questions])\n",
    "y_valid = dm.valid_numeral_labels\n"
   ]
  },
  {
   "cell_type": "markdown",
   "metadata": {},
   "source": [
    "#### <span style=\"color:red\">**Question 2.6**</span> \n",
    "\n",
    "**It is now to use *MinMaxScaler(feature_range=(-1,1))* in sckit-learn to scale both training and valid sets to the range $(-1,1)$.**\n",
    "\n",
    "<div style=\"text-align: right\"><span style=\"color:red\">[2 points]</span></div> "
   ]
  },
  {
   "cell_type": "code",
   "execution_count": 16,
   "metadata": {},
   "outputs": [],
   "source": [
    "scaler = MinMaxScaler(feature_range=(-1,1))\n",
    "X_train = scaler.fit_transform(X_train)\n",
    "X_valid = scaler.transform(X_valid) "
   ]
  },
  {
   "cell_type": "markdown",
   "metadata": {},
   "source": [
    "#### <span style=\"color:red\">**Question 2.7**</span> \n",
    "\n",
    "**Declare a support vector machine (the class *SVC*  in sckit-learn) with RBF kernel, $C=1$, $gamma= 2^{-3}$ and fit on the training set.**\n",
    "\n",
    "<div style=\"text-align: right\"><span style=\"color:red\">[2 points]</span></div> "
   ]
  },
  {
   "cell_type": "code",
   "execution_count": 17,
   "metadata": {},
   "outputs": [
    {
     "data": {
      "text/plain": [
       "SVC(C=1, gamma=0.125)"
      ]
     },
     "execution_count": 17,
     "metadata": {},
     "output_type": "execute_result"
    }
   ],
   "source": [
    "from sklearn.svm import SVC\n",
    "\n",
    "svm = SVC(kernel='rbf', C=1, gamma=2**-3)\n",
    "svm.fit(X_train, y_train)\n"
   ]
  },
  {
   "cell_type": "markdown",
   "metadata": {},
   "source": [
    "#### <span style=\"color:red\">**Question 2.8**</span> \n",
    "\n",
    "**Finally, we use the trained *svm* to evaluate on the valid set $X\\_valid$.**\n",
    "\n",
    "<div style=\"text-align: right\"><span style=\"color:red\">[2 points]</span></div> "
   ]
  },
  {
   "cell_type": "code",
   "execution_count": 18,
   "metadata": {},
   "outputs": [
    {
     "name": "stdout",
     "output_type": "stream",
     "text": [
      "0.9297658862876255\n"
     ]
    }
   ],
   "source": [
    "y_valid_pred = svm.predict(X_valid)\n",
    "acc = accuracy_score(y_valid, y_valid_pred)\n",
    "print(acc)\n"
   ]
  },
  {
   "cell_type": "markdown",
   "metadata": {},
   "source": [
    "## <span style=\"color:#0b486b\">Part 3: Sentence representation with BERT and CLIP </span>\n",
    "\n",
    "<div style=\"text-align: right\"><span style=\"color:red; font-weight:bold\">[Total marks for this part: 15 points]<span></div>"
   ]
  },
  {
   "cell_type": "markdown",
   "metadata": {},
   "source": [
    "#### <span style=\"color:red\">**Question 3.1**</span>\n",
    "**Use a pretrained BERT model to extract feaure vectors for the training and valid sets. You should choose an appropriate pretrained BERT model that fits your computational resource.**\n",
    "<div style=\"text-align: right\"><span style=\"color:red\">[4 points]</span></div>"
   ]
  },
  {
   "cell_type": "code",
   "execution_count": 19,
   "metadata": {},
   "outputs": [
    {
     "name": "stderr",
     "output_type": "stream",
     "text": [
      "Some weights of the PyTorch model were not used when initializing the TF 2.0 model TFBertModel: ['cls.predictions.bias', 'cls.predictions.transform.LayerNorm.bias', 'cls.predictions.transform.dense.weight', 'cls.predictions.transform.dense.bias', 'cls.seq_relationship.bias', 'cls.predictions.transform.LayerNorm.weight', 'cls.seq_relationship.weight']\n",
      "- This IS expected if you are initializing TFBertModel from a PyTorch model trained on another task or with another architecture (e.g. initializing a TFBertForSequenceClassification model from a BertForPreTraining model).\n",
      "- This IS NOT expected if you are initializing TFBertModel from a PyTorch model that you expect to be exactly identical (e.g. initializing a TFBertForSequenceClassification model from a BertForSequenceClassification model).\n",
      "All the weights of TFBertModel were initialized from the PyTorch model.\n",
      "If your task is similar to the task the model of the checkpoint was trained on, you can already use TFBertModel for predictions without further training.\n"
     ]
    }
   ],
   "source": [
    "import tensorflow as tf\n",
    "from transformers import BertTokenizer, TFBertModel\n",
    "\n",
    "bert_model = TFBertModel.from_pretrained(\"bert-base-uncased\")\n",
    "tokenizer = BertTokenizer.from_pretrained(\"bert-base-uncased\")\n",
    "\n",
    "def get_bert_embeddings(sentences):\n",
    "\n",
    "    inputs = tokenizer(sentences, return_tensors=\"tf\", padding=True, truncation=True, max_length=128)\n",
    "    outputs = bert_model(inputs.input_ids, attention_mask=inputs.attention_mask)\n",
    "\n",
    "    embeddings = outputs.last_hidden_state[:,0,:].numpy()\n",
    "    return embeddings"
   ]
  },
  {
   "cell_type": "code",
   "execution_count": 20,
   "metadata": {},
   "outputs": [],
   "source": [
    "#Insert your code for extracting training set\n",
    "\n",
    "X_train_bert = get_bert_embeddings(dm.train_str_questions)"
   ]
  },
  {
   "cell_type": "code",
   "execution_count": 21,
   "metadata": {},
   "outputs": [],
   "source": [
    "#Insert your code for extracting training set\n",
    "X_valid_bert = get_bert_embeddings(dm.valid_str_questions)"
   ]
  },
  {
   "cell_type": "markdown",
   "metadata": {},
   "source": [
    "#### <span style=\"color:red\">**Question 3.2**</span>\n",
    "**Conduct a feed-forward neural network to train on the training set of feature vectors extracted from BERT and then evaluate on the valid set.**\n",
    "<div style=\"text-align: right\"><span style=\"color:red\">[4 points]</span></div>"
   ]
  },
  {
   "cell_type": "code",
   "execution_count": null,
   "metadata": {},
   "outputs": [],
   "source": [
    "#Insert your code for training here\n"
   ]
  },
  {
   "cell_type": "code",
   "execution_count": 30,
   "metadata": {},
   "outputs": [
    {
     "name": "stdout",
     "output_type": "stream",
     "text": [
      "Epoch 1/5\n",
      "38/38 [==============================] - 0s 7ms/step - loss: 1.4518 - accuracy: 0.4305 - val_loss: 0.7914 - val_accuracy: 0.8194\n",
      "Epoch 2/5\n",
      "38/38 [==============================] - 0s 3ms/step - loss: 0.8108 - accuracy: 0.7286 - val_loss: 0.4822 - val_accuracy: 0.8629\n",
      "Epoch 3/5\n",
      "38/38 [==============================] - 0s 3ms/step - loss: 0.5037 - accuracy: 0.8360 - val_loss: 0.3399 - val_accuracy: 0.8997\n",
      "Epoch 4/5\n",
      "38/38 [==============================] - 0s 3ms/step - loss: 0.4020 - accuracy: 0.8651 - val_loss: 0.2744 - val_accuracy: 0.9030\n",
      "Epoch 5/5\n",
      "38/38 [==============================] - 0s 3ms/step - loss: 0.2969 - accuracy: 0.9092 - val_loss: 0.2117 - val_accuracy: 0.9197\n",
      "10/10 - 0s - loss: 0.2117 - accuracy: 0.9197\n",
      "Validation Accuracy: 91.97%\n"
     ]
    }
   ],
   "source": [
    "#Insert your code for testing here\n",
    "from tensorflow.keras.models import Sequential\n",
    "from tensorflow.keras.layers import Dense, Dropout\n",
    "from tensorflow.keras.optimizers import Adam\n",
    "\n",
    "model = Sequential([\n",
    "    Dense(256, activation='relu'),\n",
    "    Dropout(0.5),\n",
    "    Dense(128, activation='relu'),\n",
    "    Dropout(0.5),\n",
    "    Dense(6, activation='softmax') # 6 classes for our dataset\n",
    "])\n",
    "\n",
    "model.compile(optimizer=Adam(learning_rate=0.001), loss='sparse_categorical_crossentropy', metrics=['accuracy'])\n",
    "\n",
    "model.fit(X_train_bert, y_train, epochs=5, batch_size=32, validation_data=(X_valid_bert, y_valid))\n",
    "\n",
    "\n",
    "loss, acc = model.evaluate(X_valid_bert, y_valid, verbose=2)\n",
    "print(f\"Validation Accuracy: {acc * 100:.2f}%\")\n"
   ]
  },
  {
   "cell_type": "markdown",
   "metadata": {},
   "source": [
    "#### <span style=\"color:red\">**Question 3.3**</span>\n",
    "**Use a pretrained CLIP model to extract feaure vectors for the training and valid sets. You should choose an appropriate pretrained CLIP model that fits your computational resource.**\n",
    "<div style=\"text-align: right\"><span style=\"color:red\">[4 points]</span></div>"
   ]
  },
  {
   "cell_type": "code",
   "execution_count": 22,
   "metadata": {},
   "outputs": [],
   "source": [
    "from transformers import TFCLIPTextModel, CLIPTextConfig, CLIPProcessor\n",
    "\n",
    "# 1. Load the pretrained CLIP text model and tokenizer for TensorFlow\n",
    "clip_text_config = CLIPTextConfig.from_pretrained(\"openai/clip-vit-base-patch32\")\n",
    "clip_model = TFCLIPTextModel(clip_text_config)\n",
    "clip_processor = CLIPProcessor.from_pretrained(\"openai/clip-vit-base-patch32\")\n",
    "\n",
    "# Function to get CLIP text embeddings for TensorFlow\n",
    "def get_clip_embeddings(sentences):\n",
    "    # 3. Tokenize the input sentences\n",
    "    inputs = clip_processor(sentences, return_tensors=\"tf\", padding=True, truncation=True, max_length=128)\n",
    "    \n",
    "    # 4. Get embeddings using CLIP text model\n",
    "    outputs = clip_model(inputs.input_ids, attention_mask=inputs.attention_mask, return_dict=True)\n",
    "    # Using text embeddings for representing the sentence\n",
    "    embeddings = outputs.last_hidden_state[:, 0, :].numpy()\n",
    "    return embeddings\n",
    "\n",
    "# Extract embeddings for training and validation sets\n",
    "X_train_clip = get_clip_embeddings(dm.train_str_questions)\n",
    "X_valid_clip = get_clip_embeddings(dm.valid_str_questions)\n"
   ]
  },
  {
   "cell_type": "markdown",
   "metadata": {},
   "source": [
    "#### <span style=\"color:red\">**Question 3.4**</span>\n",
    "**Conduct a feed-forward neural network to train on the training set of feature vectors extracted from CLIP and then evaluate on the valid set.**\n",
    "<div style=\"text-align: right\"><span style=\"color:red\">[3 points]</span></div>"
   ]
  },
  {
   "cell_type": "code",
   "execution_count": 46,
   "metadata": {},
   "outputs": [
    {
     "name": "stdout",
     "output_type": "stream",
     "text": [
      "Epoch 1/10\n",
      "38/38 [==============================] - 0s 11ms/step - loss: 1.9625 - accuracy: 0.2098 - val_loss: 1.7227 - val_accuracy: 0.2140\n",
      "Epoch 2/10\n",
      "38/38 [==============================] - 0s 4ms/step - loss: 1.7215 - accuracy: 0.2148 - val_loss: 1.7019 - val_accuracy: 0.2140\n",
      "Epoch 3/10\n",
      "38/38 [==============================] - 0s 3ms/step - loss: 1.7216 - accuracy: 0.1998 - val_loss: 1.7174 - val_accuracy: 0.2140\n",
      "Epoch 4/10\n",
      "38/38 [==============================] - 0s 3ms/step - loss: 1.6991 - accuracy: 0.2273 - val_loss: 1.7019 - val_accuracy: 0.2977\n",
      "Epoch 5/10\n",
      "38/38 [==============================] - 0s 3ms/step - loss: 1.6993 - accuracy: 0.1948 - val_loss: 1.6951 - val_accuracy: 0.2140\n",
      "Epoch 6/10\n",
      "38/38 [==============================] - 0s 4ms/step - loss: 1.6803 - accuracy: 0.2365 - val_loss: 1.6985 - val_accuracy: 0.2140\n",
      "Epoch 7/10\n",
      "38/38 [==============================] - 0s 3ms/step - loss: 1.6802 - accuracy: 0.2273 - val_loss: 1.6963 - val_accuracy: 0.2140\n",
      "Epoch 8/10\n",
      "38/38 [==============================] - 0s 3ms/step - loss: 1.6812 - accuracy: 0.2190 - val_loss: 1.6909 - val_accuracy: 0.2140\n",
      "Epoch 9/10\n",
      "38/38 [==============================] - 0s 3ms/step - loss: 1.6815 - accuracy: 0.2157 - val_loss: 1.6832 - val_accuracy: 0.2977\n",
      "Epoch 10/10\n",
      "38/38 [==============================] - 0s 3ms/step - loss: 1.6728 - accuracy: 0.2356 - val_loss: 1.6907 - val_accuracy: 0.2140\n"
     ]
    },
    {
     "data": {
      "text/plain": [
       "<tensorflow.python.keras.callbacks.History at 0x22bb99a77c8>"
      ]
     },
     "execution_count": 46,
     "metadata": {},
     "output_type": "execute_result"
    }
   ],
   "source": [
    "#Insert your code for training here\n",
    "from tensorflow.keras.models import Sequential\n",
    "from tensorflow.keras.layers import Dense, Dropout\n",
    "from tensorflow.keras.optimizers import Adam\n",
    "\n",
    "# Define the neural network architecture\n",
    "model_clip = Sequential([\n",
    "    Dense(256, activation='relu'),\n",
    "    Dropout(0.5),\n",
    "    Dense(128, activation='relu'),\n",
    "    Dropout(0.5),\n",
    "    Dense(6, activation='softmax') # 6 classes for the dataset\n",
    "])\n",
    "\n",
    "# Compile the model with appropriate loss and optimizer\n",
    "model_clip.compile(optimizer=Adam(learning_rate=0.001), \n",
    "                   loss='sparse_categorical_crossentropy', \n",
    "                   metrics=['accuracy'])\n",
    "\n",
    "# Train the model on CLIP embeddings\n",
    "model_clip.fit(X_train_clip, y_train, epochs=10, batch_size=32, validation_data=(X_valid_clip, y_valid))\n",
    "\n"
   ]
  },
  {
   "cell_type": "code",
   "execution_count": 47,
   "metadata": {},
   "outputs": [
    {
     "name": "stdout",
     "output_type": "stream",
     "text": [
      "10/10 - 0s - loss: 1.6907 - accuracy: 0.2140\n",
      "Validation Accuracy with CLIP embeddings: 21.40%\n"
     ]
    }
   ],
   "source": [
    "#Insert your code for testing here\n",
    "loss_clip, acc_clip = model_clip.evaluate(X_valid_clip, y_valid, verbose=2)\n",
    "print(f\"Validation Accuracy with CLIP embeddings: {acc_clip * 100:.2f}%\")"
   ]
  },
  {
   "cell_type": "markdown",
   "metadata": {},
   "source": [
    "## <span style=\"color:#0b486b\">Part 4: RNNs for sequence modeling and neural embedding </span>\n",
    "\n",
    "<div style=\"text-align: right\"><span style=\"color:red; font-weight:bold\">[Total marks for this part: 60 points]<span></div>"
   ]
  },
  {
   "cell_type": "markdown",
   "metadata": {},
   "source": [
    "### <span style=\"color:#0b486b\">4.1. One-directional RNNs for sequence modeling and neural embedding </span> ###\n",
    "\n",
    "<div style=\"text-align: right\"><span style=\"color:red; font-weight:bold\">[Total marks for this part: 10 points]<span></div>"
   ]
  },
  {
   "cell_type": "markdown",
   "metadata": {},
   "source": [
    "#### <span style=\"color:red\">**Question 4.1.1**</span> \n",
    "**In this part, you need to construct an RNN to learn from the dataset of interest. Basically, you are required first to construct the class UniRNN (Uni-directional RNN) with the following requirements:**\n",
    "- Attribute `data_manager (self.data_manager)`: specifies the data manager used to store data for the model.\n",
    "- Attribute `cell_type (self.cell_type)`: can receive three values including `basic_rnn`, `gru`, and `lstm` which specifies the memory cells formed a hidden layer.\n",
    "- `state_sizes (self.state_sizes)` indicates the list of the hidden sizes  of memory cells. For example, $state\\_sizes = [64, 128]$ means that you have two hidden layers in your network with hidden sizes of $64$ and $128$ respectively.\n",
    "\n",
    "**Note that when declaring an embedding layer for the network, you need to set *mask_zero=True* so that the padding zeros in the sentences will be masked and ignored. This helps to have variable length RNNs. For more detail, you can refer to this [link](https://www.tensorflow.org/guide/keras/masking_and_padding).**\n",
    "\n",
    "<div style=\"text-align: right\"><span style=\"color:red\">[7 points]</span></div>"
   ]
  },
  {
   "cell_type": "code",
   "execution_count": 43,
   "metadata": {},
   "outputs": [],
   "source": [
    "class UniRNN:\n",
    "    def __init__(self, cell_type='gru', embed_size=128, state_sizes=[128, 64], data_manager=None):\n",
    "        self.cell_type = cell_type\n",
    "        self.state_sizes = state_sizes\n",
    "        self.embed_size = embed_size\n",
    "        self.data_manager = data_manager\n",
    "        self.vocab_size = self.data_manager.vocab_size + 1\n",
    "\n",
    "    @staticmethod\n",
    "    def get_layer(cell_type='gru', state_size=128, return_sequences=False, activation='tanh'):\n",
    "        if cell_type == 'gru':\n",
    "            return tf.keras.layers.GRU(state_size, return_sequences=return_sequences, activation=activation)\n",
    "        elif cell_type == 'lstm':\n",
    "            return tf.keras.layers.LSTM(state_size, return_sequences=return_sequences, activation=activation)\n",
    "        else:  # basic_rnn\n",
    "            return tf.keras.layers.SimpleRNN(state_size, return_sequences=return_sequences, activation=activation)\n",
    "\n",
    "    def build(self):\n",
    "        x = tf.keras.layers.Input(shape=[None])\n",
    "        h = tf.keras.layers.Embedding(input_dim=self.vocab_size, output_dim=self.embed_size, mask_zero=True)(x)\n",
    "        \n",
    "        num_layers = len(self.state_sizes)\n",
    "        \n",
    "        for i in range(num_layers):\n",
    "            return_seq = (i < num_layers-1)\n",
    "            h = self.get_layer(self.cell_type, self.state_sizes[i], return_sequences=return_seq)(h)\n",
    "\n",
    "        h = tf.keras.layers.Dense(dm.num_classes, activation='softmax')(h)\n",
    "        self.model = tf.keras.Model(inputs=x, outputs=h)\n",
    "\n",
    "    def compile_model(self, *args, **kwargs):\n",
    "        self.model.compile(*args, **kwargs)\n",
    "\n",
    "    def fit(self, *args, **kwargs):\n",
    "        return self.model.fit(*args, **kwargs)\n",
    "\n",
    "    def evaluate(self, *args, **kwargs):\n",
    "        return self.model.evaluate(*args, **kwargs)"
   ]
  },
  {
   "cell_type": "markdown",
   "metadata": {},
   "source": [
    "#### <span style=\"color:red\">**Question 4.1.2**</span> \n",
    "**Run with basic RNN ('basic_rnn') cell with $embed\\_size= 128, state\\_sizes= [64, 128], data\\_manager= dm$.**\n",
    "\n",
    "<div style=\"text-align: right\"><span style=\"color:red\">[1 points]</span></div>"
   ]
  },
  {
   "cell_type": "code",
   "execution_count": 44,
   "metadata": {},
   "outputs": [
    {
     "name": "stdout",
     "output_type": "stream",
     "text": [
      "Epoch 1/20\n",
      "19/19 [==============================] - 5s 276ms/step - loss: 1.0221 - accuracy: 0.6045 - val_loss: 0.5297 - val_accuracy: 0.8127\n",
      "Epoch 2/20\n",
      "19/19 [==============================] - 5s 262ms/step - loss: 0.3332 - accuracy: 0.8901 - val_loss: 0.2842 - val_accuracy: 0.9030\n",
      "Epoch 3/20\n",
      "19/19 [==============================] - 5s 265ms/step - loss: 0.2438 - accuracy: 0.9251 - val_loss: 0.2171 - val_accuracy: 0.9398\n",
      "Epoch 4/20\n",
      "19/19 [==============================] - 5s 267ms/step - loss: 0.1043 - accuracy: 0.9734 - val_loss: 0.2046 - val_accuracy: 0.9298\n",
      "Epoch 5/20\n",
      "19/19 [==============================] - 5s 266ms/step - loss: 0.1516 - accuracy: 0.9617 - val_loss: 0.1285 - val_accuracy: 0.9498\n",
      "Epoch 6/20\n",
      "19/19 [==============================] - 5s 264ms/step - loss: 0.0298 - accuracy: 0.9958 - val_loss: 0.1838 - val_accuracy: 0.9465\n",
      "Epoch 7/20\n",
      "19/19 [==============================] - 5s 263ms/step - loss: 0.0198 - accuracy: 0.9967 - val_loss: 0.1314 - val_accuracy: 0.9498\n",
      "Epoch 8/20\n",
      "19/19 [==============================] - 5s 271ms/step - loss: 0.1184 - accuracy: 0.9659 - val_loss: 0.0920 - val_accuracy: 0.9632\n",
      "Epoch 9/20\n",
      "19/19 [==============================] - 5s 267ms/step - loss: 0.0078 - accuracy: 1.0000 - val_loss: 0.0836 - val_accuracy: 0.9699\n",
      "Epoch 10/20\n",
      "19/19 [==============================] - 5s 269ms/step - loss: 0.0039 - accuracy: 1.0000 - val_loss: 0.0866 - val_accuracy: 0.9666\n",
      "Epoch 11/20\n",
      "19/19 [==============================] - 5s 268ms/step - loss: 0.0022 - accuracy: 1.0000 - val_loss: 0.0952 - val_accuracy: 0.9632\n",
      "Epoch 12/20\n",
      "19/19 [==============================] - 5s 265ms/step - loss: 0.0011 - accuracy: 1.0000 - val_loss: 0.1069 - val_accuracy: 0.9666\n",
      "Epoch 13/20\n",
      "19/19 [==============================] - 5s 266ms/step - loss: 5.0701e-04 - accuracy: 1.0000 - val_loss: 0.1230 - val_accuracy: 0.9699\n",
      "Epoch 14/20\n",
      "19/19 [==============================] - 5s 267ms/step - loss: 2.2095e-04 - accuracy: 1.0000 - val_loss: 0.1480 - val_accuracy: 0.9666\n",
      "Epoch 15/20\n",
      "19/19 [==============================] - 5s 268ms/step - loss: 9.5487e-05 - accuracy: 1.0000 - val_loss: 0.1726 - val_accuracy: 0.9666\n",
      "Epoch 16/20\n",
      "19/19 [==============================] - 5s 270ms/step - loss: 4.6206e-05 - accuracy: 1.0000 - val_loss: 0.2412 - val_accuracy: 0.9565\n",
      "Epoch 17/20\n",
      "19/19 [==============================] - 5s 267ms/step - loss: 0.0444 - accuracy: 0.9867 - val_loss: 0.1922 - val_accuracy: 0.9565\n",
      "Epoch 18/20\n",
      "19/19 [==============================] - 5s 275ms/step - loss: 0.0046 - accuracy: 0.9983 - val_loss: 0.2034 - val_accuracy: 0.9565\n",
      "Epoch 19/20\n",
      "19/19 [==============================] - 5s 275ms/step - loss: 2.3138e-04 - accuracy: 1.0000 - val_loss: 0.1516 - val_accuracy: 0.9699\n",
      "Epoch 20/20\n",
      "19/19 [==============================] - 5s 274ms/step - loss: 7.2728e-05 - accuracy: 1.0000 - val_loss: 0.1323 - val_accuracy: 0.9699\n"
     ]
    },
    {
     "data": {
      "text/plain": [
       "<tensorflow.python.keras.callbacks.History at 0x22c56fe8248>"
      ]
     },
     "execution_count": 44,
     "metadata": {},
     "output_type": "execute_result"
    }
   ],
   "source": [
    "uni_rnn =  UniRNN(cell_type='basic_rnn', embed_size=128, state_sizes=[64, 128], data_manager=dm)\n",
    "uni_rnn.build()\n",
    "opt = tf.keras.optimizers.RMSprop(learning_rate=0.001)\n",
    "uni_rnn.compile_model(optimizer=opt, loss='sparse_categorical_crossentropy', metrics=['accuracy'])\n",
    "uni_rnn.fit(dm.tf_train_set.batch(64), epochs=20, validation_data = dm.tf_valid_set.batch(64))"
   ]
  },
  {
   "cell_type": "markdown",
   "metadata": {},
   "source": [
    "#### <span style=\"color:red\">**Question 4.1.3**</span> \n",
    "**Run with GRU ('gru') cell with $embed\\_size= 128, state\\_sizes= [64, 128], data\\_manager= dm$.**\n",
    "\n",
    "<div style=\"text-align: right\"><span style=\"color:red\">[1 points]</span></div>"
   ]
  },
  {
   "cell_type": "code",
   "execution_count": 45,
   "metadata": {},
   "outputs": [
    {
     "name": "stdout",
     "output_type": "stream",
     "text": [
      "Epoch 1/20\n",
      "19/19 [==============================] - 3s 161ms/step - loss: 1.6073 - accuracy: 0.3306 - val_loss: 1.1489 - val_accuracy: 0.6120\n",
      "Epoch 2/20\n",
      "19/19 [==============================] - 0s 19ms/step - loss: 0.8399 - accuracy: 0.6936 - val_loss: 0.4751 - val_accuracy: 0.8729\n",
      "Epoch 3/20\n",
      "19/19 [==============================] - 0s 17ms/step - loss: 0.2753 - accuracy: 0.9176 - val_loss: 0.2557 - val_accuracy: 0.9264\n",
      "Epoch 4/20\n",
      "19/19 [==============================] - 0s 17ms/step - loss: 0.1006 - accuracy: 0.9717 - val_loss: 0.2418 - val_accuracy: 0.9197\n",
      "Epoch 5/20\n",
      "19/19 [==============================] - 0s 17ms/step - loss: 0.0406 - accuracy: 0.9917 - val_loss: 0.1439 - val_accuracy: 0.9599\n",
      "Epoch 6/20\n",
      "19/19 [==============================] - 0s 19ms/step - loss: 0.0207 - accuracy: 0.9958 - val_loss: 0.1320 - val_accuracy: 0.9632\n",
      "Epoch 7/20\n",
      "19/19 [==============================] - 0s 20ms/step - loss: 0.0058 - accuracy: 0.9992 - val_loss: 0.1527 - val_accuracy: 0.9632\n",
      "Epoch 8/20\n",
      "19/19 [==============================] - 0s 18ms/step - loss: 0.0051 - accuracy: 0.9992 - val_loss: 0.1569 - val_accuracy: 0.9699\n",
      "Epoch 9/20\n",
      "19/19 [==============================] - 0s 18ms/step - loss: 0.0013 - accuracy: 1.0000 - val_loss: 0.1538 - val_accuracy: 0.9732\n",
      "Epoch 10/20\n",
      "19/19 [==============================] - 0s 17ms/step - loss: 5.1151e-04 - accuracy: 1.0000 - val_loss: 0.1842 - val_accuracy: 0.9666\n",
      "Epoch 11/20\n",
      "19/19 [==============================] - 0s 20ms/step - loss: 2.1659e-04 - accuracy: 1.0000 - val_loss: 0.2233 - val_accuracy: 0.9565\n",
      "Epoch 12/20\n",
      "19/19 [==============================] - 0s 21ms/step - loss: 9.2730e-05 - accuracy: 1.0000 - val_loss: 0.2627 - val_accuracy: 0.9565\n",
      "Epoch 13/20\n",
      "19/19 [==============================] - 0s 19ms/step - loss: 3.8990e-05 - accuracy: 1.0000 - val_loss: 0.2513 - val_accuracy: 0.9632\n",
      "Epoch 14/20\n",
      "19/19 [==============================] - 0s 22ms/step - loss: 1.6980e-05 - accuracy: 1.0000 - val_loss: 0.2736 - val_accuracy: 0.9565\n",
      "Epoch 15/20\n",
      "19/19 [==============================] - 0s 19ms/step - loss: 7.7345e-06 - accuracy: 1.0000 - val_loss: 0.2888 - val_accuracy: 0.9565\n",
      "Epoch 16/20\n",
      "19/19 [==============================] - 0s 17ms/step - loss: 3.7181e-06 - accuracy: 1.0000 - val_loss: 0.3219 - val_accuracy: 0.9565\n",
      "Epoch 17/20\n",
      "19/19 [==============================] - 0s 19ms/step - loss: 1.8822e-06 - accuracy: 1.0000 - val_loss: 0.3614 - val_accuracy: 0.9565\n",
      "Epoch 18/20\n",
      "19/19 [==============================] - 0s 19ms/step - loss: 1.0013e-06 - accuracy: 1.0000 - val_loss: 0.4000 - val_accuracy: 0.9565\n",
      "Epoch 19/20\n",
      "19/19 [==============================] - 0s 18ms/step - loss: 5.7361e-07 - accuracy: 1.0000 - val_loss: 0.4261 - val_accuracy: 0.9532\n",
      "Epoch 20/20\n",
      "19/19 [==============================] - 0s 18ms/step - loss: 3.5485e-07 - accuracy: 1.0000 - val_loss: 0.4319 - val_accuracy: 0.9532\n"
     ]
    },
    {
     "data": {
      "text/plain": [
       "<tensorflow.python.keras.callbacks.History at 0x22c5d06e448>"
      ]
     },
     "execution_count": 45,
     "metadata": {},
     "output_type": "execute_result"
    }
   ],
   "source": [
    "# uni_rnn = #Insert your code here\n",
    "# uni_rnn.build()\n",
    "# opt = tf.keras.optimizers.RMSprop(learning_rate=0.001)\n",
    "# uni_rnn.compile_model(optimizer=opt, loss='sparse_categorical_crossentropy', metrics=['accuracy'])\n",
    "# uni_rnn.fit(dm.tf_train_set.batch(64), epochs=20, validation_data = dm.tf_valid_set.batch(64))\n",
    "uni_rnn = UniRNN(cell_type='gru', embed_size=128, state_sizes=[64, 128], data_manager=dm)\n",
    "uni_rnn.build()\n",
    "\n",
    "opt = tf.keras.optimizers.RMSprop(learning_rate=0.001)\n",
    "uni_rnn.compile_model(optimizer=opt, loss='sparse_categorical_crossentropy', metrics=['accuracy'])\n",
    "uni_rnn.fit(dm.tf_train_set.batch(64), epochs=20, validation_data=dm.tf_valid_set.batch(64))\n"
   ]
  },
  {
   "cell_type": "markdown",
   "metadata": {},
   "source": [
    "#### <span style=\"color:red\">**Question 4.1.4**</span> \n",
    "**Run with LSTM ('lstm') cell with $embed\\_size= 128, state\\_sizes= [64, 128], data\\_manager= dm$.**\n",
    "\n",
    "<div style=\"text-align: right\"><span style=\"color:red\">[1 points]</span></div>"
   ]
  },
  {
   "cell_type": "code",
   "execution_count": 46,
   "metadata": {},
   "outputs": [
    {
     "name": "stdout",
     "output_type": "stream",
     "text": [
      "Epoch 1/20\n",
      "19/19 [==============================] - 3s 161ms/step - loss: 1.4674 - accuracy: 0.4338 - val_loss: 1.0416 - val_accuracy: 0.7559\n",
      "Epoch 2/20\n",
      "19/19 [==============================] - 0s 18ms/step - loss: 0.5824 - accuracy: 0.8177 - val_loss: 0.4544 - val_accuracy: 0.8997\n",
      "Epoch 3/20\n",
      "19/19 [==============================] - 0s 19ms/step - loss: 0.2243 - accuracy: 0.9359 - val_loss: 0.2814 - val_accuracy: 0.9331\n",
      "Epoch 4/20\n",
      "19/19 [==============================] - 0s 20ms/step - loss: 0.1193 - accuracy: 0.9709 - val_loss: 0.2192 - val_accuracy: 0.9365\n",
      "Epoch 5/20\n",
      "19/19 [==============================] - 0s 19ms/step - loss: 0.0683 - accuracy: 0.9784 - val_loss: 0.1533 - val_accuracy: 0.9465\n",
      "Epoch 6/20\n",
      "19/19 [==============================] - 0s 17ms/step - loss: 0.0378 - accuracy: 0.9900 - val_loss: 0.1534 - val_accuracy: 0.9465\n",
      "Epoch 7/20\n",
      "19/19 [==============================] - 0s 18ms/step - loss: 0.0241 - accuracy: 0.9958 - val_loss: 0.1306 - val_accuracy: 0.9565\n",
      "Epoch 8/20\n",
      "19/19 [==============================] - 0s 20ms/step - loss: 0.0088 - accuracy: 0.9983 - val_loss: 0.1272 - val_accuracy: 0.9666\n",
      "Epoch 9/20\n",
      "19/19 [==============================] - 0s 20ms/step - loss: 0.0039 - accuracy: 0.9992 - val_loss: 0.1485 - val_accuracy: 0.9565\n",
      "Epoch 10/20\n",
      "19/19 [==============================] - 0s 19ms/step - loss: 0.0027 - accuracy: 1.0000 - val_loss: 0.1372 - val_accuracy: 0.9599\n",
      "Epoch 11/20\n",
      "19/19 [==============================] - 0s 18ms/step - loss: 7.9669e-04 - accuracy: 1.0000 - val_loss: 0.1545 - val_accuracy: 0.9666\n",
      "Epoch 12/20\n",
      "19/19 [==============================] - 0s 18ms/step - loss: 3.2888e-04 - accuracy: 1.0000 - val_loss: 0.1768 - val_accuracy: 0.9666\n",
      "Epoch 13/20\n",
      "19/19 [==============================] - 0s 19ms/step - loss: 1.3725e-04 - accuracy: 1.0000 - val_loss: 0.2072 - val_accuracy: 0.9666\n",
      "Epoch 14/20\n",
      "19/19 [==============================] - 0s 20ms/step - loss: 7.1811e-05 - accuracy: 1.0000 - val_loss: 0.2176 - val_accuracy: 0.9699\n",
      "Epoch 15/20\n",
      "19/19 [==============================] - 0s 19ms/step - loss: 2.3053e-05 - accuracy: 1.0000 - val_loss: 0.2344 - val_accuracy: 0.9666\n",
      "Epoch 16/20\n",
      "19/19 [==============================] - 0s 18ms/step - loss: 1.1248e-05 - accuracy: 1.0000 - val_loss: 0.2603 - val_accuracy: 0.9666\n",
      "Epoch 17/20\n",
      "19/19 [==============================] - 0s 19ms/step - loss: 5.4616e-06 - accuracy: 1.0000 - val_loss: 0.2754 - val_accuracy: 0.9666\n",
      "Epoch 18/20\n",
      "19/19 [==============================] - 0s 19ms/step - loss: 2.7179e-06 - accuracy: 1.0000 - val_loss: 0.2979 - val_accuracy: 0.9666\n",
      "Epoch 19/20\n",
      "19/19 [==============================] - 0s 19ms/step - loss: 1.4420e-06 - accuracy: 1.0000 - val_loss: 0.3240 - val_accuracy: 0.9632\n",
      "Epoch 20/20\n",
      "19/19 [==============================] - 0s 19ms/step - loss: 7.8660e-07 - accuracy: 1.0000 - val_loss: 0.3455 - val_accuracy: 0.9632\n"
     ]
    },
    {
     "data": {
      "text/plain": [
       "<tensorflow.python.keras.callbacks.History at 0x22c73b0b948>"
      ]
     },
     "execution_count": 46,
     "metadata": {},
     "output_type": "execute_result"
    }
   ],
   "source": [
    "uni_rnn = UniRNN(cell_type='lstm', embed_size=128, state_sizes=[64, 128], data_manager=dm)\n",
    "uni_rnn.build()\n",
    "opt = tf.keras.optimizers.RMSprop(learning_rate=0.001)\n",
    "uni_rnn.compile_model(optimizer=opt, loss='sparse_categorical_crossentropy', metrics=['accuracy'])\n",
    "uni_rnn.fit(dm.tf_train_set.batch(64), epochs=20, validation_data = dm.tf_valid_set.batch(64))"
   ]
  },
  {
   "cell_type": "markdown",
   "metadata": {},
   "source": [
    "### <span style=\"color:#0b486b\">4.2. Bi-directional RNNs for sequence modeling and neural embedding </span> ###\n",
    "\n",
    "<div style=\"text-align: right\"><span style=\"color:red; font-weight:bold\">[Total marks for this part: 10 points]<span></div>"
   ]
  },
  {
   "cell_type": "markdown",
   "metadata": {},
   "source": [
    "#### <span style=\"color:red\">**Question 4.2.1**</span> \n",
    "**In what follow, you will investigate BiRNN. The task is similar to Part 5.1 but you need to write the code for an BiRNN. Note that the function *get_layer(cell_type= 'gru', state_size= 128, return_sequences= False, activation = 'tanh')* has to return the hidden layer with bidirectional memory cells (e.g., Basic RNN, GRU, and LSTM cells).**\n",
    "\n",
    "**Complete the code of the class *BiRNN*. Note that for the embedding layer you need to set *mask_zero=True*.**\n",
    "\n",
    "<div style=\"text-align: right\"><span style=\"color:red\">[7 points]</span></div>"
   ]
  },
  {
   "cell_type": "code",
   "execution_count": 47,
   "metadata": {},
   "outputs": [],
   "source": [
    "class BiRNN:\n",
    "    def __init__(self, cell_type='gru', embed_size=128, state_sizes=[128, 64], data_manager=None):\n",
    "        self.cell_type = cell_type\n",
    "        self.state_sizes = state_sizes\n",
    "        self.embed_size = embed_size\n",
    "        self.data_manager = data_manager\n",
    "        self.vocab_size = self.data_manager.vocab_size + 1\n",
    "\n",
    "    @staticmethod\n",
    "    def get_layer(cell_type='gru', state_size=128, return_sequences=False, activation='tanh'):\n",
    "        if cell_type == 'gru':\n",
    "            return tf.keras.layers.Bidirectional(tf.keras.layers.GRU(state_size, \n",
    "                                                                      return_sequences=return_sequences,\n",
    "                                                                      activation=activation))\n",
    "        elif cell_type == 'lstm':\n",
    "            return tf.keras.layers.Bidirectional(tf.keras.layers.LSTM(state_size, \n",
    "                                                                       return_sequences=return_sequences,\n",
    "                                                                       activation=activation))\n",
    "        else:\n",
    "            return tf.keras.layers.Bidirectional(tf.keras.layers.SimpleRNN(state_size, \n",
    "                                                                           return_sequences=return_sequences,\n",
    "                                                                           activation=activation))\n",
    "\n",
    "    def build(self):\n",
    "        x = tf.keras.layers.Input(shape=[None])\n",
    "        h = tf.keras.layers.Embedding(self.vocab_size, self.embed_size, mask_zero=True)(x)\n",
    "        num_layers = len(self.state_sizes)\n",
    "        \n",
    "        for i, state_size in enumerate(self.state_sizes):\n",
    "            h = self.get_layer(self.cell_type, state_size, return_sequences=(i < num_layers - 1))(h)\n",
    "            \n",
    "        h = tf.keras.layers.Dense(dm.num_classes, activation='softmax')(h)\n",
    "        self.model = tf.keras.Model(inputs=x, outputs=h)\n",
    "\n",
    "    def compile_model(self, *args, **kwargs):\n",
    "        self.model.compile(*args, **kwargs)\n",
    "\n",
    "    def fit(self, *args, **kwargs):\n",
    "        return self.model.fit(*args, **kwargs)\n",
    "\n",
    "    def evaluate(self, *args, **kwargs):\n",
    "        self.model.evaluate(*args, **kwargs)\n",
    " \n"
   ]
  },
  {
   "cell_type": "markdown",
   "metadata": {},
   "source": [
    "#### <span style=\"color:red\">**Question 4.2.2**</span> \n",
    "**Run BiRNN for basic RNN ('basic_rnn') cell with $embed\\_size= 128, state\\_sizes= [64, 128], data\\_manager= dm$.**\n",
    "\n",
    "<div style=\"text-align: right\"><span style=\"color:red\">[1 points]</span></div>"
   ]
  },
  {
   "cell_type": "code",
   "execution_count": 48,
   "metadata": {},
   "outputs": [
    {
     "name": "stdout",
     "output_type": "stream",
     "text": [
      "Epoch 1/20\n",
      "19/19 [==============================] - 11s 582ms/step - loss: 0.7058 - accuracy: 0.7619 - val_loss: 0.2927 - val_accuracy: 0.9231\n",
      "Epoch 2/20\n",
      "19/19 [==============================] - 10s 551ms/step - loss: 0.0909 - accuracy: 0.9725 - val_loss: 0.2336 - val_accuracy: 0.9431\n",
      "Epoch 3/20\n",
      "19/19 [==============================] - 11s 572ms/step - loss: 0.0168 - accuracy: 0.9975 - val_loss: 0.1238 - val_accuracy: 0.9565\n",
      "Epoch 4/20\n",
      "19/19 [==============================] - 12s 614ms/step - loss: 0.0033 - accuracy: 1.0000 - val_loss: 0.1034 - val_accuracy: 0.9632\n",
      "Epoch 5/20\n",
      "19/19 [==============================] - 11s 556ms/step - loss: 8.7835e-04 - accuracy: 1.0000 - val_loss: 0.0999 - val_accuracy: 0.9632\n",
      "Epoch 6/20\n",
      "19/19 [==============================] - 10s 549ms/step - loss: 2.8746e-04 - accuracy: 1.0000 - val_loss: 0.1044 - val_accuracy: 0.9666\n",
      "Epoch 7/20\n",
      "19/19 [==============================] - 11s 555ms/step - loss: 9.9413e-05 - accuracy: 1.0000 - val_loss: 0.1112 - val_accuracy: 0.9632\n",
      "Epoch 8/20\n",
      "19/19 [==============================] - 10s 544ms/step - loss: 3.5133e-05 - accuracy: 1.0000 - val_loss: 0.1186 - val_accuracy: 0.9599\n",
      "Epoch 9/20\n",
      "19/19 [==============================] - 11s 553ms/step - loss: 1.2733e-05 - accuracy: 1.0000 - val_loss: 0.1269 - val_accuracy: 0.9632\n",
      "Epoch 10/20\n",
      "19/19 [==============================] - 10s 546ms/step - loss: 4.9940e-06 - accuracy: 1.0000 - val_loss: 0.1321 - val_accuracy: 0.9632\n",
      "Epoch 11/20\n",
      "19/19 [==============================] - 11s 553ms/step - loss: 1.9103e-06 - accuracy: 1.0000 - val_loss: 0.1341 - val_accuracy: 0.9632\n",
      "Epoch 12/20\n",
      "19/19 [==============================] - 10s 548ms/step - loss: 7.3401e-07 - accuracy: 1.0000 - val_loss: 0.1452 - val_accuracy: 0.9632\n",
      "Epoch 13/20\n",
      "19/19 [==============================] - 10s 545ms/step - loss: 3.1108e-07 - accuracy: 1.0000 - val_loss: 0.1513 - val_accuracy: 0.9632\n",
      "Epoch 14/20\n",
      "19/19 [==============================] - 10s 548ms/step - loss: 1.4194e-07 - accuracy: 1.0000 - val_loss: 0.1559 - val_accuracy: 0.9632\n",
      "Epoch 15/20\n",
      "19/19 [==============================] - 10s 551ms/step - loss: 7.6826e-08 - accuracy: 1.0000 - val_loss: 0.1582 - val_accuracy: 0.9632\n",
      "Epoch 16/20\n",
      "19/19 [==============================] - 11s 554ms/step - loss: 4.5262e-08 - accuracy: 1.0000 - val_loss: 0.1610 - val_accuracy: 0.9632\n",
      "Epoch 17/20\n",
      "19/19 [==============================] - 11s 559ms/step - loss: 2.9380e-08 - accuracy: 1.0000 - val_loss: 0.1624 - val_accuracy: 0.9632\n",
      "Epoch 18/20\n",
      "19/19 [==============================] - 10s 552ms/step - loss: 2.0745e-08 - accuracy: 1.0000 - val_loss: 0.1656 - val_accuracy: 0.9632\n",
      "Epoch 19/20\n",
      "19/19 [==============================] - 10s 553ms/step - loss: 1.5881e-08 - accuracy: 1.0000 - val_loss: 0.1656 - val_accuracy: 0.9632\n",
      "Epoch 20/20\n",
      "19/19 [==============================] - 11s 563ms/step - loss: 1.2804e-08 - accuracy: 1.0000 - val_loss: 0.1670 - val_accuracy: 0.9632\n"
     ]
    },
    {
     "data": {
      "text/plain": [
       "<tensorflow.python.keras.callbacks.History at 0x22c86fd2748>"
      ]
     },
     "execution_count": 48,
     "metadata": {},
     "output_type": "execute_result"
    }
   ],
   "source": [
    "bi_rnn = BiRNN(cell_type='basic_rnn', embed_size=128, state_sizes=[64, 128], data_manager=dm)\n",
    "bi_rnn.build()\n",
    "opt = tf.keras.optimizers.RMSprop(learning_rate=0.001)\n",
    "bi_rnn.compile_model(optimizer=opt, loss='sparse_categorical_crossentropy', metrics=['accuracy'])\n",
    "bi_rnn.fit(dm.tf_train_set.batch(64), epochs=20, validation_data = dm.tf_valid_set.batch(64))"
   ]
  },
  {
   "cell_type": "markdown",
   "metadata": {},
   "source": [
    "#### <span style=\"color:red\">**Question 4.2.3**</span> \n",
    "**Run BiRNN for GRU ('gru') cell with $embed\\_size= 128, state\\_sizes= [64, 128], data\\_manager= dm$.**\n",
    "\n",
    "<div style=\"text-align: right\"><span style=\"color:red\">[1 points]</span></div>"
   ]
  },
  {
   "cell_type": "code",
   "execution_count": null,
   "metadata": {},
   "outputs": [],
   "source": [
    "bi_rnn = BiRNN(cell_type='gru', embed_size=128, state_sizes=[64, 128], data_manager=dm)\n",
    "bi_rnn.build()\n",
    "opt = tf.keras.optimizers.RMSprop(learning_rate=0.001)\n",
    "bi_rnn.compile_model(optimizer=opt, loss='sparse_categorical_crossentropy', metrics=['accuracy'])\n",
    "bi_rnn.fit(dm.tf_train_set.batch(64), epochs=20, validation_data = dm.tf_valid_set.batch(64))"
   ]
  },
  {
   "cell_type": "markdown",
   "metadata": {},
   "source": [
    "#### <span style=\"color:red\">**Question 4.2.4**</span> \n",
    "**Run BiRNN for LSTM ('lstm') cell with $embed\\_size= 128, state\\_sizes= [64, 128], data\\_manager= dm$.**\n",
    "\n",
    "<div style=\"text-align: right\"><span style=\"color:red\">[1 points]</span></div>"
   ]
  },
  {
   "cell_type": "code",
   "execution_count": 50,
   "metadata": {},
   "outputs": [
    {
     "name": "stdout",
     "output_type": "stream",
     "text": [
      "Epoch 1/20\n",
      "19/19 [==============================] - 6s 323ms/step - loss: 1.3354 - accuracy: 0.5296 - val_loss: 0.8507 - val_accuracy: 0.7224\n",
      "Epoch 2/20\n",
      "19/19 [==============================] - 1s 29ms/step - loss: 0.4116 - accuracy: 0.8826 - val_loss: 0.4506 - val_accuracy: 0.8963\n",
      "Epoch 3/20\n",
      "19/19 [==============================] - 1s 30ms/step - loss: 0.1589 - accuracy: 0.9592 - val_loss: 0.2653 - val_accuracy: 0.9231\n",
      "Epoch 4/20\n",
      "19/19 [==============================] - 1s 33ms/step - loss: 0.0680 - accuracy: 0.9817 - val_loss: 0.2151 - val_accuracy: 0.9365\n",
      "Epoch 5/20\n",
      "19/19 [==============================] - 1s 30ms/step - loss: 0.0236 - accuracy: 0.9958 - val_loss: 0.1746 - val_accuracy: 0.9565\n",
      "Epoch 6/20\n",
      "19/19 [==============================] - 1s 30ms/step - loss: 0.0067 - accuracy: 0.9983 - val_loss: 0.1982 - val_accuracy: 0.9565\n",
      "Epoch 7/20\n",
      "19/19 [==============================] - 1s 32ms/step - loss: 0.0224 - accuracy: 0.9958 - val_loss: 0.1995 - val_accuracy: 0.9565\n",
      "Epoch 8/20\n",
      "19/19 [==============================] - 1s 32ms/step - loss: 0.0017 - accuracy: 1.0000 - val_loss: 0.1908 - val_accuracy: 0.9632\n",
      "Epoch 9/20\n",
      "19/19 [==============================] - 1s 29ms/step - loss: 7.9857e-04 - accuracy: 1.0000 - val_loss: 0.2073 - val_accuracy: 0.9666\n",
      "Epoch 10/20\n",
      "19/19 [==============================] - 1s 31ms/step - loss: 3.7359e-04 - accuracy: 1.0000 - val_loss: 0.2283 - val_accuracy: 0.9599\n",
      "Epoch 11/20\n",
      "19/19 [==============================] - 1s 30ms/step - loss: 1.5835e-04 - accuracy: 1.0000 - val_loss: 0.2538 - val_accuracy: 0.9565\n",
      "Epoch 12/20\n",
      "19/19 [==============================] - 1s 30ms/step - loss: 6.3801e-05 - accuracy: 1.0000 - val_loss: 0.2820 - val_accuracy: 0.9599\n",
      "Epoch 13/20\n",
      "19/19 [==============================] - 1s 33ms/step - loss: 2.5303e-05 - accuracy: 1.0000 - val_loss: 0.3096 - val_accuracy: 0.9599\n",
      "Epoch 14/20\n",
      "19/19 [==============================] - 1s 33ms/step - loss: 1.0316e-05 - accuracy: 1.0000 - val_loss: 0.3428 - val_accuracy: 0.9565\n",
      "Epoch 15/20\n",
      "19/19 [==============================] - 1s 30ms/step - loss: 4.4016e-06 - accuracy: 1.0000 - val_loss: 0.3665 - val_accuracy: 0.9498\n",
      "Epoch 16/20\n",
      "19/19 [==============================] - 1s 31ms/step - loss: 2.1104e-06 - accuracy: 1.0000 - val_loss: 0.3871 - val_accuracy: 0.9565\n",
      "Epoch 17/20\n",
      "19/19 [==============================] - 1s 32ms/step - loss: 1.0072e-06 - accuracy: 1.0000 - val_loss: 0.4165 - val_accuracy: 0.9599\n",
      "Epoch 18/20\n",
      "19/19 [==============================] - 1s 29ms/step - loss: 5.0878e-07 - accuracy: 1.0000 - val_loss: 0.4397 - val_accuracy: 0.9565\n",
      "Epoch 19/20\n",
      "19/19 [==============================] - 1s 30ms/step - loss: 0.0321 - accuracy: 0.9925 - val_loss: 0.2944 - val_accuracy: 0.9732\n",
      "Epoch 20/20\n",
      "19/19 [==============================] - 1s 33ms/step - loss: 3.5050e-05 - accuracy: 1.0000 - val_loss: 0.2971 - val_accuracy: 0.9732\n"
     ]
    },
    {
     "data": {
      "text/plain": [
       "<tensorflow.python.keras.callbacks.History at 0x22cc3f762c8>"
      ]
     },
     "execution_count": 50,
     "metadata": {},
     "output_type": "execute_result"
    }
   ],
   "source": [
    "bi_rnn = BiRNN(cell_type='lstm', embed_size=128, state_sizes=[64, 128], data_manager=dm)\n",
    "bi_rnn.build()\n",
    "opt = tf.keras.optimizers.RMSprop(learning_rate=0.001)\n",
    "bi_rnn.compile_model(optimizer=opt, loss='sparse_categorical_crossentropy', metrics=['accuracy'])\n",
    "bi_rnn.fit(dm.tf_train_set.batch(64), epochs=20, validation_data = dm.tf_valid_set.batch(64))"
   ]
  },
  {
   "cell_type": "markdown",
   "metadata": {},
   "source": [
    "### <span style=\"color:#0b486b\">4.3. RNNs with various types, cells, and fine-tuning embedding matrix for sequence modeling and neural embedding </span> ###\n",
    "\n",
    "<div style=\"text-align: right\"><span style=\"color:red; font-weight:bold\">[Total marks for this part: 10 points]<span></div>"
   ]
  },
  {
   "cell_type": "markdown",
   "metadata": {},
   "source": [
    "#### <span style=\"color:red\">**Question 4.3.1**</span> \n",
    "\n",
    "**In what follows, you are required to combine the code in Part 1 and Part 2 to gain a general RNN which can be either Uni-directional RNN or Bi-directional RNN and the embedding matrix can be initialized using a pretrained Word2Vect.**\n",
    "\n",
    "**Below are the descriptions of the attributes of the class *RNN*:**\n",
    "- `run_mode (self.run_mode)` has three values (scratch, init-only, and init-fine-tune).\n",
    "  - `scratch` means training the embedding matrix from scratch.\n",
    "  - `init-only` means only initializing the embedding matrix with a pretrained Word2Vect but **not further doing** fine-tuning that matrix.\n",
    "  - `init-fine-tune` means both initializing the embedding matrix with a pretrained Word2Vect and **further doing** fine-tuning that matrix.\n",
    "- `network_type (self.network_type)` has two values (uni-directional and bi-directional) which correspond to either Uni-directional RNN or Bi-directional RNN.\n",
    "- `cell_type (self.cell_type)` has three values (simple-rnn, gru, and lstm) which specify the memory cell used in the network.\n",
    "- `embed_model (self.embed_model)` specifes the pretrained Word2Vect model used.\n",
    "-  `embed_size (self.embed_size)` specifes the embedding size. Note that when run_mode is either init-only' or 'init-fine-tune', this embedding size is extracted from embed_model for dimension compatability.\n",
    "- `state_sizes (self.state_sizes)` indicates the list of the hidden sizes  of memory cells. For example, $state\\_sizes = [64, 128]$ means that you have two hidden layers in your network with hidden sizes of $64$ and $128$ respectively.\n",
    "\n",
    "**Complete the code of the class *RNN*.**\n",
    "\n",
    "<div style=\"text-align: right\"><span style=\"color:red\">[6 points]</span></div>"
   ]
  },
  {
   "cell_type": "code",
   "execution_count": 98,
   "metadata": {},
   "outputs": [],
   "source": [
    "import tensorflow as tf\n",
    "import numpy as np\n",
    "\n",
    "class RNN:\n",
    "    def __init__(self, run_mode='scratch', cell_type='gru', network_type='uni-directional',\n",
    "                 embed_model='glove-wiki-gigaword-100', embed_size=128, state_sizes=[64, 64], \n",
    "                 data_manager=None):\n",
    "        self.run_mode = run_mode\n",
    "        self.cell_type = cell_type\n",
    "        self.network_type = network_type\n",
    "        self.embed_model = embed_model\n",
    "        self.embed_size = embed_size\n",
    "        self.state_sizes = state_sizes\n",
    "        self.data_manager = data_manager\n",
    "        self.vocab_size = data_manager.vocab_size + 1\n",
    "        self.embed_matrix = np.zeros((self.vocab_size, self.embed_size))\n",
    "        self.word2idx = data_manager.word2idx\n",
    "     \n",
    "        if self.run_mode != 'scratch':\n",
    "            self.build_embedding_matrix()\n",
    "\n",
    "    def build_embedding_matrix(self):\n",
    "        if self.run_mode != 'scratch':\n",
    "            # load the pre-trained word2vec model\n",
    "            self.word2vect = api.load('glove-wiki-gigaword-100')\n",
    "            for word, i in self.word2idx.items():\n",
    "                if word in self.word2vect:\n",
    "                    self.embed_matrix[i] = self.word2vect[word]\n",
    "\n",
    "    @staticmethod\n",
    "    def get_layer(cell_type='gru', network_type='uni-directional', hidden_size=128, return_sequences=False, activation='tanh'):\n",
    "        if cell_type == 'gru':\n",
    "            cell = tf.keras.layers.GRU(hidden_size, return_sequences=return_sequences, activation=activation)\n",
    "        elif cell_type == 'lstm':\n",
    "            cell = tf.keras.layers.LSTM(hidden_size, return_sequences=return_sequences, activation=activation)\n",
    "        else:  # simple rnn\n",
    "            cell = tf.keras.layers.SimpleRNN(hidden_size, return_sequences=return_sequences, activation=activation)\n",
    "\n",
    "        if network_type == 'bi-directional':\n",
    "            return tf.keras.layers.Bidirectional(cell)\n",
    "        else:\n",
    "            return cell\n",
    "\n",
    "    def build(self):\n",
    "        x = tf.keras.layers.Input(shape=[None])\n",
    "\n",
    "        if self.run_mode in ['init-only', 'init-fine-tune']:\n",
    "            emb_layer = tf.keras.layers.Embedding(input_dim=self.vocab_size, output_dim=self.embed_size, \n",
    "                                                  weights=[self.embed_matrix], trainable=(self.run_mode == 'init-fine-tune'),\n",
    "                                                  mask_zero=True)\n",
    "        else:  \n",
    "            emb_layer = tf.keras.layers.Embedding(input_dim=self.vocab_size, output_dim=self.embed_size, mask_zero=True)\n",
    "\n",
    "        h = emb_layer(x)\n",
    "\n",
    "        for idx, size in enumerate(self.state_sizes):\n",
    "            is_last = idx == len(self.state_sizes) - 1\n",
    "\n",
    "            if self.network_type == 'uni-directional':\n",
    "                h = self.get_layer(cell_type=self.cell_type, hidden_size=size, return_sequences=not is_last)(h)\n",
    "            else:  # bi-directional\n",
    "                h = self.get_layer(cell_type=self.cell_type, network_type='bi-directional', hidden_size=size, return_sequences=True)(h)\n",
    "                if is_last:\n",
    "\n",
    "                    h = tf.keras.layers.GlobalMaxPooling1D()(h)\n",
    "\n",
    "        h = tf.keras.layers.Dense(self.data_manager.num_classes, activation='softmax')(h)\n",
    "        self.model = tf.keras.models.Model(inputs=x, outputs=h)\n",
    "\n",
    "\n",
    "\n",
    "    def compile_model(self, *args, **kwargs):\n",
    "        self.model.compile(*args, **kwargs)\n",
    "\n",
    "    def fit(self, *args, **kwargs):\n",
    "        return self.model.fit(*args, **kwargs)\n",
    "\n",
    "    def evaluate(self, *args, **kwargs):\n",
    "        self.model.evaluate(*args, **kwargs)\n",
    "\n"
   ]
  },
  {
   "cell_type": "markdown",
   "metadata": {},
   "source": [
    "#### <span style=\"color:red\">**Question 4.3.2**</span> \n",
    "\n",
    "**Design the experiment to compare three running modes. Note that you should stick with fixed values for other attributes and only vary *run_mode*. Give your comments for the results.**\n",
    "\n",
    "<div style=\"text-align: right\"><span style=\"color:red\">[2 points]</span></div>"
   ]
  },
  {
   "cell_type": "code",
   "execution_count": 74,
   "metadata": {},
   "outputs": [
    {
     "name": "stdout",
     "output_type": "stream",
     "text": [
      "Epoch 1/20\n",
      "19/19 [==============================] - 6s 301ms/step - loss: 1.4861 - accuracy: 0.4838 - val_loss: 1.1545 - val_accuracy: 0.7425\n",
      "Epoch 2/20\n",
      "19/19 [==============================] - 1s 27ms/step - loss: 0.9610 - accuracy: 0.7527 - val_loss: 0.6711 - val_accuracy: 0.8528\n",
      "Epoch 3/20\n",
      "19/19 [==============================] - 1s 28ms/step - loss: 0.5337 - accuracy: 0.8868 - val_loss: 0.4037 - val_accuracy: 0.8796\n",
      "Epoch 4/20\n",
      "19/19 [==============================] - 0s 25ms/step - loss: 0.2607 - accuracy: 0.9434 - val_loss: 0.2578 - val_accuracy: 0.9130\n",
      "Epoch 5/20\n",
      "19/19 [==============================] - 0s 26ms/step - loss: 0.1325 - accuracy: 0.9684 - val_loss: 0.1795 - val_accuracy: 0.9498\n",
      "Epoch 6/20\n",
      "19/19 [==============================] - 1s 27ms/step - loss: 0.0731 - accuracy: 0.9842 - val_loss: 0.1354 - val_accuracy: 0.9532\n",
      "Epoch 7/20\n",
      "19/19 [==============================] - 0s 26ms/step - loss: 0.0442 - accuracy: 0.9933 - val_loss: 0.1130 - val_accuracy: 0.9632\n",
      "Epoch 8/20\n",
      "19/19 [==============================] - 0s 25ms/step - loss: 0.0277 - accuracy: 0.9967 - val_loss: 0.1269 - val_accuracy: 0.9599\n",
      "Epoch 9/20\n",
      "19/19 [==============================] - 0s 26ms/step - loss: 0.0205 - accuracy: 0.9992 - val_loss: 0.1168 - val_accuracy: 0.9599\n",
      "Epoch 10/20\n",
      "19/19 [==============================] - 1s 26ms/step - loss: 0.0183 - accuracy: 0.9983 - val_loss: 0.1057 - val_accuracy: 0.9699\n",
      "Epoch 11/20\n",
      "19/19 [==============================] - 1s 26ms/step - loss: 0.0209 - accuracy: 0.9958 - val_loss: 0.1650 - val_accuracy: 0.9632\n",
      "Epoch 12/20\n",
      "19/19 [==============================] - 0s 25ms/step - loss: 0.0234 - accuracy: 0.9917 - val_loss: 0.0910 - val_accuracy: 0.9732\n",
      "Epoch 13/20\n",
      "19/19 [==============================] - 1s 27ms/step - loss: 0.0358 - accuracy: 0.9875 - val_loss: 0.0963 - val_accuracy: 0.9732\n",
      "Epoch 14/20\n",
      "19/19 [==============================] - 1s 28ms/step - loss: 0.0306 - accuracy: 0.9933 - val_loss: 0.2051 - val_accuracy: 0.9532\n",
      "Epoch 15/20\n",
      "19/19 [==============================] - 0s 24ms/step - loss: 0.0352 - accuracy: 0.9908 - val_loss: 0.0542 - val_accuracy: 0.9866\n",
      "Epoch 16/20\n",
      "19/19 [==============================] - 0s 26ms/step - loss: 0.0069 - accuracy: 0.9992 - val_loss: 0.0741 - val_accuracy: 0.9732\n",
      "Epoch 17/20\n",
      "19/19 [==============================] - 1s 27ms/step - loss: 0.0038 - accuracy: 1.0000 - val_loss: 0.0776 - val_accuracy: 0.9766\n",
      "Epoch 18/20\n",
      "19/19 [==============================] - 1s 27ms/step - loss: 0.0031 - accuracy: 1.0000 - val_loss: 0.0715 - val_accuracy: 0.9766\n",
      "Epoch 19/20\n",
      "19/19 [==============================] - 0s 25ms/step - loss: 0.0027 - accuracy: 1.0000 - val_loss: 0.0680 - val_accuracy: 0.9799\n",
      "Epoch 20/20\n",
      "19/19 [==============================] - 0s 25ms/step - loss: 0.0024 - accuracy: 1.0000 - val_loss: 0.0667 - val_accuracy: 0.9799\n"
     ]
    }
   ],
   "source": [
    "# Assuming `dm` is your data manager instance:\n",
    "rnn = RNN(run_mode='init-fine-tune', cell_type='gru', network_type='bi-directional', data_manager=dm)\n",
    "rnn.build()\n",
    "rnn.compile_model(optimizer='adam', loss='sparse_categorical_crossentropy', metrics=['accuracy'])\n",
    "history = rnn.fit(dm.tf_train_set.batch(64), epochs=20, validation_data=dm.tf_valid_set.batch(64))\n",
    "\n"
   ]
  },
  {
   "cell_type": "code",
   "execution_count": 75,
   "metadata": {},
   "outputs": [
    {
     "name": "stdout",
     "output_type": "stream",
     "text": [
      "Epoch 1/20\n",
      "19/19 [==============================] - 6s 299ms/step - loss: 1.7362 - accuracy: 0.3514 - val_loss: 1.6474 - val_accuracy: 0.3177\n",
      "Epoch 2/20\n",
      "19/19 [==============================] - 1s 27ms/step - loss: 1.3847 - accuracy: 0.5362 - val_loss: 1.0726 - val_accuracy: 0.7458\n",
      "Epoch 3/20\n",
      "19/19 [==============================] - 1s 27ms/step - loss: 0.6398 - accuracy: 0.8651 - val_loss: 0.4591 - val_accuracy: 0.9130\n",
      "Epoch 4/20\n",
      "19/19 [==============================] - 0s 25ms/step - loss: 0.2018 - accuracy: 0.9625 - val_loss: 0.2294 - val_accuracy: 0.9231\n",
      "Epoch 5/20\n",
      "19/19 [==============================] - 0s 26ms/step - loss: 0.0787 - accuracy: 0.9767 - val_loss: 0.1855 - val_accuracy: 0.9398\n",
      "Epoch 6/20\n",
      "19/19 [==============================] - 1s 29ms/step - loss: 0.0410 - accuracy: 0.9942 - val_loss: 0.1507 - val_accuracy: 0.9565\n",
      "Epoch 7/20\n",
      "19/19 [==============================] - 1s 27ms/step - loss: 0.0179 - accuracy: 1.0000 - val_loss: 0.1357 - val_accuracy: 0.9632\n",
      "Epoch 8/20\n",
      "19/19 [==============================] - 1s 28ms/step - loss: 0.0110 - accuracy: 1.0000 - val_loss: 0.1302 - val_accuracy: 0.9699\n",
      "Epoch 9/20\n",
      "19/19 [==============================] - 1s 27ms/step - loss: 0.0082 - accuracy: 1.0000 - val_loss: 0.1287 - val_accuracy: 0.9699\n",
      "Epoch 10/20\n",
      "19/19 [==============================] - 1s 27ms/step - loss: 0.0065 - accuracy: 1.0000 - val_loss: 0.1290 - val_accuracy: 0.9699\n",
      "Epoch 11/20\n",
      "19/19 [==============================] - 0s 25ms/step - loss: 0.0054 - accuracy: 1.0000 - val_loss: 0.1296 - val_accuracy: 0.9699\n",
      "Epoch 12/20\n",
      "19/19 [==============================] - 0s 25ms/step - loss: 0.0045 - accuracy: 1.0000 - val_loss: 0.1306 - val_accuracy: 0.9699\n",
      "Epoch 13/20\n",
      "19/19 [==============================] - 1s 27ms/step - loss: 0.0039 - accuracy: 1.0000 - val_loss: 0.1317 - val_accuracy: 0.9699\n",
      "Epoch 14/20\n",
      "19/19 [==============================] - 1s 27ms/step - loss: 0.0034 - accuracy: 1.0000 - val_loss: 0.1330 - val_accuracy: 0.9699\n",
      "Epoch 15/20\n",
      "19/19 [==============================] - 0s 25ms/step - loss: 0.0030 - accuracy: 1.0000 - val_loss: 0.1343 - val_accuracy: 0.9699\n",
      "Epoch 16/20\n",
      "19/19 [==============================] - 1s 27ms/step - loss: 0.0027 - accuracy: 1.0000 - val_loss: 0.1357 - val_accuracy: 0.9699\n",
      "Epoch 17/20\n",
      "19/19 [==============================] - 1s 28ms/step - loss: 0.0024 - accuracy: 1.0000 - val_loss: 0.1370 - val_accuracy: 0.9699\n",
      "Epoch 18/20\n",
      "19/19 [==============================] - 0s 26ms/step - loss: 0.0022 - accuracy: 1.0000 - val_loss: 0.1383 - val_accuracy: 0.9699\n",
      "Epoch 19/20\n",
      "19/19 [==============================] - 0s 25ms/step - loss: 0.0020 - accuracy: 1.0000 - val_loss: 0.1395 - val_accuracy: 0.9732\n",
      "Epoch 20/20\n",
      "19/19 [==============================] - 0s 26ms/step - loss: 0.0018 - accuracy: 1.0000 - val_loss: 0.1406 - val_accuracy: 0.9732\n"
     ]
    }
   ],
   "source": [
    "rnn = RNN(run_mode='scratche', cell_type='gru', network_type='bi-directional', data_manager=dm)\n",
    "rnn.build()\n",
    "rnn.compile_model(optimizer='adam', loss='sparse_categorical_crossentropy', metrics=['accuracy'])\n",
    "history = rnn.fit(dm.tf_train_set.batch(64), epochs=20, validation_data=dm.tf_valid_set.batch(64))"
   ]
  },
  {
   "cell_type": "code",
   "execution_count": 76,
   "metadata": {},
   "outputs": [
    {
     "name": "stdout",
     "output_type": "stream",
     "text": [
      "Epoch 1/20\n",
      "19/19 [==============================] - 6s 298ms/step - loss: 1.4539 - accuracy: 0.4538 - val_loss: 1.1080 - val_accuracy: 0.7324\n",
      "Epoch 2/20\n",
      "19/19 [==============================] - 1s 29ms/step - loss: 0.9085 - accuracy: 0.7677 - val_loss: 0.6495 - val_accuracy: 0.8395\n",
      "Epoch 3/20\n",
      "19/19 [==============================] - 0s 26ms/step - loss: 0.5022 - accuracy: 0.8959 - val_loss: 0.3829 - val_accuracy: 0.8796\n",
      "Epoch 4/20\n",
      "19/19 [==============================] - 0s 25ms/step - loss: 0.2387 - accuracy: 0.9525 - val_loss: 0.2523 - val_accuracy: 0.9164\n",
      "Epoch 5/20\n",
      "19/19 [==============================] - 1s 27ms/step - loss: 0.1175 - accuracy: 0.9775 - val_loss: 0.1736 - val_accuracy: 0.9431\n",
      "Epoch 6/20\n",
      "19/19 [==============================] - 1s 28ms/step - loss: 0.0635 - accuracy: 0.9892 - val_loss: 0.1311 - val_accuracy: 0.9532\n",
      "Epoch 7/20\n",
      "19/19 [==============================] - 0s 25ms/step - loss: 0.0363 - accuracy: 0.9950 - val_loss: 0.1167 - val_accuracy: 0.9599\n",
      "Epoch 8/20\n",
      "19/19 [==============================] - 0s 25ms/step - loss: 0.0228 - accuracy: 0.9975 - val_loss: 0.1210 - val_accuracy: 0.9599\n",
      "Epoch 9/20\n",
      "19/19 [==============================] - 1s 28ms/step - loss: 0.0151 - accuracy: 1.0000 - val_loss: 0.1131 - val_accuracy: 0.9666\n",
      "Epoch 10/20\n",
      "19/19 [==============================] - 1s 29ms/step - loss: 0.0123 - accuracy: 1.0000 - val_loss: 0.0969 - val_accuracy: 0.9766\n",
      "Epoch 11/20\n",
      "19/19 [==============================] - 0s 25ms/step - loss: 0.0124 - accuracy: 0.9983 - val_loss: 0.1319 - val_accuracy: 0.9666\n",
      "Epoch 12/20\n",
      "19/19 [==============================] - 0s 26ms/step - loss: 0.0095 - accuracy: 0.9992 - val_loss: 0.1003 - val_accuracy: 0.9766\n",
      "Epoch 13/20\n",
      "19/19 [==============================] - 1s 28ms/step - loss: 0.0091 - accuracy: 0.9975 - val_loss: 0.1005 - val_accuracy: 0.9632\n",
      "Epoch 14/20\n",
      "19/19 [==============================] - 0s 26ms/step - loss: 0.0147 - accuracy: 0.9975 - val_loss: 0.1188 - val_accuracy: 0.9699\n",
      "Epoch 15/20\n",
      "19/19 [==============================] - 0s 25ms/step - loss: 0.0222 - accuracy: 0.9950 - val_loss: 0.2115 - val_accuracy: 0.9465\n",
      "Epoch 16/20\n",
      "19/19 [==============================] - 1s 27ms/step - loss: 0.0128 - accuracy: 0.9975 - val_loss: 0.1328 - val_accuracy: 0.9565\n",
      "Epoch 17/20\n",
      "19/19 [==============================] - 1s 28ms/step - loss: 0.0082 - accuracy: 0.9983 - val_loss: 0.1314 - val_accuracy: 0.9632\n",
      "Epoch 18/20\n",
      "19/19 [==============================] - 0s 26ms/step - loss: 0.0033 - accuracy: 1.0000 - val_loss: 0.0884 - val_accuracy: 0.9799\n",
      "Epoch 19/20\n",
      "19/19 [==============================] - 0s 25ms/step - loss: 0.0032 - accuracy: 1.0000 - val_loss: 0.1207 - val_accuracy: 0.9699\n",
      "Epoch 20/20\n",
      "19/19 [==============================] - 1s 27ms/step - loss: 0.0025 - accuracy: 1.0000 - val_loss: 0.1288 - val_accuracy: 0.9666\n"
     ]
    }
   ],
   "source": [
    "rnn = RNN(run_mode='init-fine-tune', cell_type='gru', network_type='bi-directional', data_manager=dm)\n",
    "rnn.build()\n",
    "rnn.compile_model(optimizer='adam', loss='sparse_categorical_crossentropy', metrics=['accuracy'])\n",
    "history = rnn.fit(dm.tf_train_set.batch(64), epochs=20, validation_data=dm.tf_valid_set.batch(64))"
   ]
  },
  {
   "cell_type": "markdown",
   "metadata": {},
   "source": [
    "#### <span style=\"color:red\">**Question 4.3.3**</span> \n",
    "\n",
    "**Run the above general RNN with at least five parameter sets and try to obtain the best performance. You can stick with the running mode *init-fine-tune* and use grid search to tune other parameters. Record your best model which will be used in the next part.**\n",
    "\n",
    "<div style=\"text-align: right\"><span style=\"color:red\">[2 points]</span></div>"
   ]
  },
  {
   "cell_type": "markdown",
   "metadata": {},
   "source": [
    "#Report your results here\n",
    "\n",
    "Model 1 (run_mode ='scratche',...): accuracy = 0.9732\n",
    "Model 3 (run_mode ='init',...): accuracy = 0.9799\n",
    "Model 3 (run_mode ='init-fine-tune',...): accuracy = 0.9666"
   ]
  },
  {
   "cell_type": "code",
   "execution_count": 77,
   "metadata": {},
   "outputs": [
    {
     "name": "stdout",
     "output_type": "stream",
     "text": [
      "Epoch 1/20\n",
      "19/19 [==============================] - 3s 150ms/step - loss: 1.6162 - accuracy: 0.2931 - val_loss: 1.4437 - val_accuracy: 0.5753\n",
      "Epoch 2/20\n",
      "19/19 [==============================] - 0s 18ms/step - loss: 1.0720 - accuracy: 0.6495 - val_loss: 0.7137 - val_accuracy: 0.8395\n",
      "Epoch 3/20\n",
      "19/19 [==============================] - 0s 18ms/step - loss: 0.4435 - accuracy: 0.8834 - val_loss: 0.3929 - val_accuracy: 0.8796\n",
      "Epoch 4/20\n",
      "19/19 [==============================] - 0s 16ms/step - loss: 0.2127 - accuracy: 0.9392 - val_loss: 0.2781 - val_accuracy: 0.8963\n",
      "Epoch 5/20\n",
      "19/19 [==============================] - 0s 16ms/step - loss: 0.1233 - accuracy: 0.9575 - val_loss: 0.1580 - val_accuracy: 0.9398\n",
      "Epoch 6/20\n",
      "19/19 [==============================] - 0s 17ms/step - loss: 0.0766 - accuracy: 0.9808 - val_loss: 0.1304 - val_accuracy: 0.9565\n",
      "Epoch 7/20\n",
      "19/19 [==============================] - 0s 17ms/step - loss: 0.0526 - accuracy: 0.9833 - val_loss: 0.1155 - val_accuracy: 0.9532\n",
      "Epoch 8/20\n",
      "19/19 [==============================] - 0s 18ms/step - loss: 0.0377 - accuracy: 0.9892 - val_loss: 0.1017 - val_accuracy: 0.9565\n",
      "Epoch 9/20\n",
      "19/19 [==============================] - 0s 18ms/step - loss: 0.0266 - accuracy: 0.9942 - val_loss: 0.1052 - val_accuracy: 0.9599\n",
      "Epoch 10/20\n",
      "19/19 [==============================] - 0s 16ms/step - loss: 0.0192 - accuracy: 0.9958 - val_loss: 0.1163 - val_accuracy: 0.9599\n",
      "Epoch 11/20\n",
      "19/19 [==============================] - 0s 16ms/step - loss: 0.0192 - accuracy: 0.9958 - val_loss: 0.1733 - val_accuracy: 0.9398\n",
      "Epoch 12/20\n",
      "19/19 [==============================] - 0s 16ms/step - loss: 0.0275 - accuracy: 0.9908 - val_loss: 0.2989 - val_accuracy: 0.9264\n",
      "Epoch 13/20\n",
      "19/19 [==============================] - 0s 18ms/step - loss: 0.0518 - accuracy: 0.9825 - val_loss: 0.1121 - val_accuracy: 0.9431\n",
      "Epoch 14/20\n",
      "19/19 [==============================] - 0s 17ms/step - loss: 0.0246 - accuracy: 0.9958 - val_loss: 0.1196 - val_accuracy: 0.9666\n",
      "Epoch 15/20\n",
      "19/19 [==============================] - 0s 17ms/step - loss: 0.0121 - accuracy: 0.9983 - val_loss: 0.1224 - val_accuracy: 0.9666\n",
      "Epoch 16/20\n",
      "19/19 [==============================] - 0s 16ms/step - loss: 0.0066 - accuracy: 0.9992 - val_loss: 0.1164 - val_accuracy: 0.9699\n",
      "Epoch 17/20\n",
      "19/19 [==============================] - 0s 16ms/step - loss: 0.0044 - accuracy: 1.0000 - val_loss: 0.1237 - val_accuracy: 0.9699\n",
      "Epoch 18/20\n",
      "19/19 [==============================] - 0s 17ms/step - loss: 0.0035 - accuracy: 1.0000 - val_loss: 0.1259 - val_accuracy: 0.9699\n",
      "Epoch 19/20\n",
      "19/19 [==============================] - 0s 18ms/step - loss: 0.0032 - accuracy: 1.0000 - val_loss: 0.1262 - val_accuracy: 0.9732\n",
      "Epoch 20/20\n",
      "19/19 [==============================] - 0s 18ms/step - loss: 0.0024 - accuracy: 1.0000 - val_loss: 0.1300 - val_accuracy: 0.9732\n",
      "Epoch 1/20\n",
      "19/19 [==============================] - 6s 304ms/step - loss: 1.4961 - accuracy: 0.4721 - val_loss: 1.1332 - val_accuracy: 0.7258\n",
      "Epoch 2/20\n",
      "19/19 [==============================] - 1s 27ms/step - loss: 0.9292 - accuracy: 0.7952 - val_loss: 0.6372 - val_accuracy: 0.8528\n",
      "Epoch 3/20\n",
      "19/19 [==============================] - 1s 27ms/step - loss: 0.5087 - accuracy: 0.9001 - val_loss: 0.3930 - val_accuracy: 0.8763\n",
      "Epoch 4/20\n",
      "19/19 [==============================] - 0s 25ms/step - loss: 0.2606 - accuracy: 0.9500 - val_loss: 0.2657 - val_accuracy: 0.8896\n",
      "Epoch 5/20\n",
      "19/19 [==============================] - 0s 26ms/step - loss: 0.1402 - accuracy: 0.9700 - val_loss: 0.1890 - val_accuracy: 0.9298\n",
      "Epoch 6/20\n",
      "19/19 [==============================] - 1s 27ms/step - loss: 0.0802 - accuracy: 0.9842 - val_loss: 0.1580 - val_accuracy: 0.9431\n",
      "Epoch 7/20\n",
      "19/19 [==============================] - 1s 27ms/step - loss: 0.0473 - accuracy: 0.9958 - val_loss: 0.1151 - val_accuracy: 0.9532\n",
      "Epoch 8/20\n",
      "19/19 [==============================] - 0s 25ms/step - loss: 0.0307 - accuracy: 0.9958 - val_loss: 0.1099 - val_accuracy: 0.9599\n",
      "Epoch 9/20\n",
      "19/19 [==============================] - 1s 27ms/step - loss: 0.0207 - accuracy: 0.9983 - val_loss: 0.1072 - val_accuracy: 0.9632\n",
      "Epoch 10/20\n",
      "19/19 [==============================] - 1s 27ms/step - loss: 0.0192 - accuracy: 0.9983 - val_loss: 0.0977 - val_accuracy: 0.9699\n",
      "Epoch 11/20\n",
      "19/19 [==============================] - 0s 25ms/step - loss: 0.0176 - accuracy: 0.9983 - val_loss: 0.1510 - val_accuracy: 0.9599\n",
      "Epoch 12/20\n",
      "19/19 [==============================] - 0s 26ms/step - loss: 0.0250 - accuracy: 0.9933 - val_loss: 0.1098 - val_accuracy: 0.9699\n",
      "Epoch 13/20\n",
      "19/19 [==============================] - 1s 28ms/step - loss: 0.0107 - accuracy: 0.9983 - val_loss: 0.0982 - val_accuracy: 0.9799\n",
      "Epoch 14/20\n",
      "19/19 [==============================] - 1s 29ms/step - loss: 0.0102 - accuracy: 0.9992 - val_loss: 0.1095 - val_accuracy: 0.9599\n",
      "Epoch 15/20\n",
      "19/19 [==============================] - 0s 26ms/step - loss: 0.0049 - accuracy: 1.0000 - val_loss: 0.1004 - val_accuracy: 0.9766\n",
      "Epoch 16/20\n",
      "19/19 [==============================] - 0s 26ms/step - loss: 0.0041 - accuracy: 1.0000 - val_loss: 0.1044 - val_accuracy: 0.9666\n",
      "Epoch 17/20\n",
      "19/19 [==============================] - 1s 28ms/step - loss: 0.0035 - accuracy: 1.0000 - val_loss: 0.0990 - val_accuracy: 0.9666\n",
      "Epoch 18/20\n",
      "19/19 [==============================] - 1s 27ms/step - loss: 0.0031 - accuracy: 1.0000 - val_loss: 0.0972 - val_accuracy: 0.9666\n",
      "Epoch 19/20\n",
      "19/19 [==============================] - 0s 26ms/step - loss: 0.0027 - accuracy: 1.0000 - val_loss: 0.0978 - val_accuracy: 0.9666\n",
      "Epoch 20/20\n",
      "19/19 [==============================] - 1s 27ms/step - loss: 0.0025 - accuracy: 1.0000 - val_loss: 0.0980 - val_accuracy: 0.9666\n",
      "Best Model's Accuracy: 0.9799330830574036\n"
     ]
    }
   ],
   "source": [
    "#The run of your best model here\n",
    "\n",
    "\n",
    "rnn_4 = RNN(run_mode='init-fine-tune', cell_type='lstm', network_type='uni-directional', data_manager=dm)\n",
    "rnn_4.build()\n",
    "rnn_4.compile_model(optimizer='adam', loss='sparse_categorical_crossentropy', metrics=['accuracy'])\n",
    "history_4 = rnn_4.fit(dm.tf_train_set.batch(64), epochs=20, validation_data=dm.tf_valid_set.batch(64))\n",
    "accuracy_4 = max(history_4.history['val_accuracy'])\n",
    "\n",
    "rnn_5 = RNN(run_mode='init-fine-tune', cell_type='gru', network_type='bi-directional', data_manager=dm)\n",
    "rnn_5.build()\n",
    "rnn_5.compile_model(optimizer='adam', loss='sparse_categorical_crossentropy', metrics=['accuracy'])\n",
    "history_5 = rnn_5.fit(dm.tf_train_set.batch(64), epochs=20, validation_data=dm.tf_valid_set.batch(64))\n",
    "accuracy_5 = max(history_5.history['val_accuracy'])\n",
    "\n",
    "all_accuracies = [0.966, 0.966, 0.957, accuracy_4, accuracy_5]\n",
    "best_accuracy = max(all_accuracies)\n",
    "\n",
    "if best_accuracy == accuracy_4:\n",
    "    my_best_rnn = rnn_4\n",
    "elif best_accuracy == accuracy_5:\n",
    "    my_best_rnn = rnn_5\n",
    "\n",
    "\n",
    "print(\"Best Model's Accuracy:\", best_accuracy)\n"
   ]
  },
  {
   "cell_type": "markdown",
   "metadata": {},
   "source": [
    "### <span style=\"color:#0b486b\">4.4. RNNs with Standard Attention for Text and Sequence Classification</span> ###\n",
    "\n",
    "**In what follows, you are required to implement a RNN with the attention machenism for text and sequence classification. This attention mechanism is applied at the last hidden layer of our RNN. Specifically, let $h_1, h_2,...,h_{L-1}, h_L$ be the hidden states at the last hidden layer where $L$ is the sequence length. We compute the context vector $c$ as $c=\\sum_{i=1}^{L}a_{i}h_{i}$ where $a_1,...,a_L$ are the allignment weights (i.e., $a_i\\geq 0$ and $\\sum_{i=1}^{L}a_{i}=1$).**\n",
    "\n",
    "**The allignment weights are computed as follows:**\n",
    "- $a=[a_{i}]_{i=1}^{L}=softmax([s_{i}]_{i=1}^{L})$ where $s= [s_{i}]_{i=1}^{L}$ consists of the allignment scores.\n",
    "- The assigment scores $s= [s_{i}]_{i=1}^{L}$ are computed as $s=tanh(hU)V$ where $h=\\left[\\begin{array}{c}\n",
    "h_{1}\\\\\n",
    "h_{2}\\\\\n",
    "...\\\\\n",
    "h_{L-1}\\\\\n",
    "h_{L}\n",
    "\\end{array}\\right]\\in\\mathbb{R}^{L\\times state\\_size_{3}}$, $U\\in\\mathbb{R}^{state\\_size_{3}\\times output\\_length}$, $V\\in\\mathbb{R}^{output\\_length\\times1}$, and $output\\_length$ is a hyper-parameter. Note that if we consider a mini-batch, the shape of $h$ is $batch\\_size \\times L \\times state\\_size_3$ where $state\\_size_3$ is the hidden size of the last hidden layer.\n",
    "\n",
    "After having the context vector $c$, we concatenate with the last hidden state $h_L$. On top of this concatenation, we conduct the output layer with the softmax activation.\n",
    "\n",
    "<img src=\"./images/attention.png\" align=\"center\" width=1200/>\n",
    "\n",
    "<div style=\"text-align: right\"><span style=\"color:red; font-weight:bold\">[Total marks for this part: 10 points]<span></div>"
   ]
  },
  {
   "cell_type": "markdown",
   "metadata": {},
   "source": [
    "#### <span style=\"color:red\">**Question 4.4.1**</span>\n",
    "\n",
    "**We declare the  layer `MyStandardAttention` as a class inherited from `tf.keras.layers.Layer` to realize our attention mechanism. You are required to provide the code for this class. Note that in the `def call(self, all_states, last_state)` method, `all_states` is the collection of all hidden states and `last_state` is the last hidden state.**\n",
    "\n",
    "<div style=\"text-align: right\"><span style=\"color:red\">[4 points]</span></div>"
   ]
  },
  {
   "cell_type": "code",
   "execution_count": 104,
   "metadata": {},
   "outputs": [],
   "source": [
    "class MyStandardAttention(tf.keras.layers.Layer):\n",
    "    def __init__(self, output_length=50, **kwargs):\n",
    "        super(MyStandardAttention, self).__init__(**kwargs)\n",
    "        self.output_length = output_length\n",
    "        \n",
    "    def build(self, input_shape):\n",
    "        # Create a trainable weight variable for this layer.\n",
    "        self.U = self.add_weight(name='U', \n",
    "                                 shape=(input_shape[-1], self.output_length),\n",
    "                                 initializer='uniform',\n",
    "                                 trainable=True)\n",
    "        self.V = self.add_weight(name='V',\n",
    "                                 shape=(self.output_length, 1),\n",
    "                                 initializer='uniform',\n",
    "                                 trainable=True)\n",
    "        super(MyStandardAttention, self).build(input_shape)  # Be sure to call this at the end\n",
    "    \n",
    "    def call(self, all_states, last_state):\n",
    "#         print(\"Shape of all_states in Attention:\", all_states.shape)\n",
    "#         print(\"Shape of last_state in Attention:\", last_state.shape)\n",
    "\n",
    "        s = tf.matmul(tf.tanh(tf.matmul(all_states, self.U)), self.V)\n",
    "        \n",
    "        a = tf.nn.softmax(s, axis=1)\n",
    "        \n",
    "        c = tf.reduce_sum(all_states * tf.expand_dims(a, -1), axis=1)\n",
    "        \n",
    "        concat = tf.concat([c, last_state], axis=-1)\n",
    "        \n",
    "        return concat\n",
    "\n",
    "    def compute_output_shape(self, input_shape):\n",
    "        return (input_shape[0], input_shape[-1] * 2)"
   ]
  },
  {
   "cell_type": "markdown",
   "metadata": {},
   "source": [
    "#### <span style=\"color:red\">**Question 4.4.2**</span> \n",
    "\n",
    "**You are required to extend the class `RNN` in Section `4.3.1` to achieve the class `StandardAttention_RNN` in which the attention mechanism mentioned above is applied at the last hidden layer.**\n",
    "\n",
    "<div style=\"text-align: right\"><span style=\"color:red\">[4 points]</span></div>"
   ]
  },
  {
   "cell_type": "code",
   "execution_count": 105,
   "metadata": {},
   "outputs": [],
   "source": [
    "class StandardAttention_RNN:\n",
    "    def __init__(self, run_mode='scratch', cell_type='gru', network_type='uni-directional',\n",
    "                 embed_model='glove-wiki-gigaword-100', embed_size=100, state_sizes=[50, 50], data_manager=None):\n",
    "        \n",
    "        self.run_mode = run_mode\n",
    "        self.data_manager = data_manager\n",
    "        self.cell_type = cell_type\n",
    "        self.network_type = network_type\n",
    "        self.state_sizes = state_sizes\n",
    "        self.embed_model = embed_model\n",
    "        self.embed_size = embed_size\n",
    "        \n",
    "        if self.run_mode != 'scratch':\n",
    "            self.embed_size = int(self.embed_model.split(\"-\")[-1])\n",
    "        \n",
    "        self.vocab_size = data_manager.vocab_size + 1\n",
    "        self.word2idx = data_manager.word2idx\n",
    "        self.word2vect = None\n",
    "        self.embed_matrix = np.zeros(shape=[self.vocab_size, self.embed_size])\n",
    "        self.attention_layer = MyStandardAttention(output_length=self.state_sizes[-1])\n",
    "        self.word2idx = data_manager.word2idx\n",
    "        \n",
    "    def build_embedding_matrix(self):\n",
    "        if self.run_mode != 'scratch':\n",
    "            # load the pre-trained word2vec model\n",
    "            self.word2vect = api.load('glove-wiki-gigaword-100')\n",
    "            for word, i in self.word2idx.items():\n",
    "                if word in self.word2vect:\n",
    "                    self.embed_matrix[i] = self.word2vect[word]\n",
    "\n",
    "    @staticmethod\n",
    "    def get_layer(cell_type='gru', state_size=100, return_sequences=False, activation='tanh'):\n",
    "        if cell_type == 'gru':\n",
    "            return tf.keras.layers.Bidirectional(tf.keras.layers.GRU(state_size, \n",
    "                                                                      return_sequences=return_sequences,\n",
    "                                                                      activation=activation))\n",
    "        elif cell_type == 'lstm':\n",
    "            return tf.keras.layers.Bidirectional(tf.keras.layers.LSTM(state_size, \n",
    "                                                                       return_sequences=return_sequences,\n",
    "                                                                       activation=activation))\n",
    "        else:\n",
    "            return tf.keras.layers.Bidirectional(tf.keras.layers.SimpleRNN(state_size, \n",
    "                                                                           return_sequences=return_sequences,\n",
    "                                                                           activation=activation))\n",
    "\n",
    "    def build(self):\n",
    "        x = tf.keras.layers.Input(shape=(None,))\n",
    "        if self.run_mode == 'scratch':\n",
    "            emb_layer = tf.keras.layers.Embedding(self.vocab_size, self.embed_size)(x)\n",
    "        else:\n",
    "            self.build_embedding_matrix()\n",
    "            emb_layer = tf.keras.layers.Embedding(self.vocab_size, self.embed_size, weights=[self.embed_matrix], trainable=(self.run_mode=='init-fine-tune'))(x)\n",
    "\n",
    "        h = emb_layer\n",
    "#         print(\"Shape of h:\", h.shape)\n",
    "        for idx, size in enumerate(self.state_sizes):\n",
    "            return_sequences = True if idx < len(self.state_sizes) - 1 else False\n",
    "            h = self.get_layer(cell_type=self.cell_type, state_size=size, return_sequences=return_sequences)(h)\n",
    "    \n",
    "#         print(\"Shape of h at [specific location]:\", h.shape)\n",
    "\n",
    "        if len(h.shape) == 3:\n",
    "            last_state = h[:, -1, :]\n",
    "        else: \n",
    "            last_state = h\n",
    "        context_vector = self.attention_layer(h, last_state)\n",
    "        \n",
    "        output = tf.keras.layers.Dense(self.data_manager.num_classes, activation='softmax')(context_vector)\n",
    "        \n",
    "        self.model = tf.keras.Model(inputs=x, outputs=output)\n",
    "\n",
    "    def compile_model(self, *args, **kwargs):\n",
    "        self.model.compile(*args, **kwargs)\n",
    "\n",
    "    def fit(self, *args, **kwargs):\n",
    "        return self.model.fit(*args, **kwargs)\n",
    "\n",
    "    def evaluate(self, *args, **kwargs):\n",
    "        self.model.evaluate(*args, **kwargs)\n"
   ]
  },
  {
   "cell_type": "markdown",
   "metadata": {
    "tags": []
   },
   "source": [
    "#### <span style=\"color:red\">**Question 4.4.3.**</span> \n",
    "\n",
    "**Choose a common setting for standard RNN and RNN with standard attention and conduct experiments to compare them. A setting here means `cell_type`, `network_type`, and list of `state sizes`**.\n",
    "\n",
    "<div style=\"text-align: right\"><span style=\"color:red\">[2 points]</span></div>"
   ]
  },
  {
   "cell_type": "code",
   "execution_count": 79,
   "metadata": {},
   "outputs": [
    {
     "name": "stdout",
     "output_type": "stream",
     "text": [
      "Epoch 1/20\n",
      "19/19 [==============================] - 6s 295ms/step - loss: 1.4123 - accuracy: 0.5079 - val_loss: 1.0588 - val_accuracy: 0.8094\n",
      "Epoch 2/20\n",
      "19/19 [==============================] - 1s 27ms/step - loss: 0.8335 - accuracy: 0.8301 - val_loss: 0.5389 - val_accuracy: 0.8763\n",
      "Epoch 3/20\n",
      "19/19 [==============================] - 1s 29ms/step - loss: 0.4175 - accuracy: 0.9042 - val_loss: 0.3066 - val_accuracy: 0.8997\n",
      "Epoch 4/20\n",
      "19/19 [==============================] - 0s 26ms/step - loss: 0.1962 - accuracy: 0.9567 - val_loss: 0.1969 - val_accuracy: 0.9331\n",
      "Epoch 5/20\n",
      "19/19 [==============================] - 0s 25ms/step - loss: 0.1060 - accuracy: 0.9800 - val_loss: 0.1740 - val_accuracy: 0.9298\n",
      "Epoch 6/20\n",
      "19/19 [==============================] - 1s 27ms/step - loss: 0.0641 - accuracy: 0.9867 - val_loss: 0.1245 - val_accuracy: 0.9498\n",
      "Epoch 7/20\n",
      "19/19 [==============================] - 1s 28ms/step - loss: 0.0376 - accuracy: 0.9950 - val_loss: 0.1207 - val_accuracy: 0.9498\n",
      "Epoch 8/20\n",
      "19/19 [==============================] - 0s 25ms/step - loss: 0.0263 - accuracy: 0.9967 - val_loss: 0.1144 - val_accuracy: 0.9532\n",
      "Epoch 9/20\n",
      "19/19 [==============================] - 0s 25ms/step - loss: 0.0229 - accuracy: 0.9975 - val_loss: 0.1761 - val_accuracy: 0.9398\n",
      "Epoch 10/20\n",
      "19/19 [==============================] - 1s 28ms/step - loss: 0.0241 - accuracy: 0.9942 - val_loss: 0.0790 - val_accuracy: 0.9699\n",
      "Epoch 11/20\n",
      "19/19 [==============================] - 1s 27ms/step - loss: 0.0126 - accuracy: 0.9983 - val_loss: 0.0773 - val_accuracy: 0.9833\n",
      "Epoch 12/20\n",
      "19/19 [==============================] - 0s 26ms/step - loss: 0.0120 - accuracy: 0.9992 - val_loss: 0.1028 - val_accuracy: 0.9699\n",
      "Epoch 13/20\n",
      "19/19 [==============================] - 0s 26ms/step - loss: 0.0112 - accuracy: 0.9983 - val_loss: 0.2162 - val_accuracy: 0.9431\n",
      "Epoch 14/20\n",
      "19/19 [==============================] - 1s 28ms/step - loss: 0.0303 - accuracy: 0.9867 - val_loss: 0.1949 - val_accuracy: 0.9465\n",
      "Epoch 15/20\n",
      "19/19 [==============================] - 1s 27ms/step - loss: 0.0235 - accuracy: 0.9917 - val_loss: 0.0755 - val_accuracy: 0.9732\n",
      "Epoch 16/20\n",
      "19/19 [==============================] - 0s 26ms/step - loss: 0.0107 - accuracy: 0.9983 - val_loss: 0.1184 - val_accuracy: 0.9699\n",
      "Epoch 17/20\n",
      "19/19 [==============================] - 1s 28ms/step - loss: 0.0041 - accuracy: 1.0000 - val_loss: 0.0774 - val_accuracy: 0.9732\n",
      "Epoch 18/20\n",
      "19/19 [==============================] - 1s 28ms/step - loss: 0.0031 - accuracy: 1.0000 - val_loss: 0.0633 - val_accuracy: 0.9766\n",
      "Epoch 19/20\n",
      "19/19 [==============================] - 0s 26ms/step - loss: 0.0028 - accuracy: 1.0000 - val_loss: 0.0623 - val_accuracy: 0.9766\n",
      "Epoch 20/20\n",
      "19/19 [==============================] - 0s 25ms/step - loss: 0.0025 - accuracy: 1.0000 - val_loss: 0.0632 - val_accuracy: 0.9766\n"
     ]
    }
   ],
   "source": [
    "standard_rnn = RNN(run_mode='init-fine-tune', \n",
    "                   cell_type='gru', \n",
    "                   network_type='bi-directional', \n",
    "                   state_sizes=[64, 64], \n",
    "                   data_manager=dm)\n",
    "standard_rnn.build()\n",
    "standard_rnn.compile_model(optimizer='adam', loss='sparse_categorical_crossentropy', metrics=['accuracy'])\n",
    "\n",
    "history_standard_rnn = standard_rnn.fit(dm.tf_train_set.batch(64), \n",
    "                                        epochs=20, \n",
    "                                        validation_data=dm.tf_valid_set.batch(64))\n",
    "\n"
   ]
  },
  {
   "cell_type": "code",
   "execution_count": 106,
   "metadata": {
    "scrolled": false
   },
   "outputs": [
    {
     "name": "stdout",
     "output_type": "stream",
     "text": [
      "Epoch 1/20\n",
      "19/19 [==============================] - 2s 113ms/step - loss: 5.8239 - accuracy: 0.2223 - val_loss: 2.3131 - val_accuracy: 0.1505\n",
      "Epoch 2/20\n",
      "19/19 [==============================] - 1s 39ms/step - loss: 2.5454 - accuracy: 0.2057 - val_loss: 1.7224 - val_accuracy: 0.2977\n",
      "Epoch 3/20\n",
      "19/19 [==============================] - 1s 40ms/step - loss: 1.9851 - accuracy: 0.2440 - val_loss: 1.7557 - val_accuracy: 0.2107\n",
      "Epoch 4/20\n",
      "19/19 [==============================] - 1s 39ms/step - loss: 1.9967 - accuracy: 0.2573 - val_loss: 1.6659 - val_accuracy: 0.3110\n",
      "Epoch 5/20\n",
      "19/19 [==============================] - 1s 38ms/step - loss: 1.8991 - accuracy: 0.2531 - val_loss: 2.4688 - val_accuracy: 0.3311\n",
      "Epoch 6/20\n",
      "19/19 [==============================] - 1s 41ms/step - loss: 2.4812 - accuracy: 0.2348 - val_loss: 1.9137 - val_accuracy: 0.2274\n",
      "Epoch 7/20\n",
      "19/19 [==============================] - 1s 38ms/step - loss: 1.9124 - accuracy: 0.3164 - val_loss: 1.6499 - val_accuracy: 0.3946\n",
      "Epoch 8/20\n",
      "19/19 [==============================] - 1s 39ms/step - loss: 1.7677 - accuracy: 0.3614 - val_loss: 1.9716 - val_accuracy: 0.2977\n",
      "Epoch 9/20\n",
      "19/19 [==============================] - 1s 40ms/step - loss: 1.7739 - accuracy: 0.3605 - val_loss: 1.5299 - val_accuracy: 0.3411\n",
      "Epoch 10/20\n",
      "19/19 [==============================] - 1s 39ms/step - loss: 1.4628 - accuracy: 0.4030 - val_loss: 1.6095 - val_accuracy: 0.5050\n",
      "Epoch 11/20\n",
      "19/19 [==============================] - 1s 39ms/step - loss: 1.7744 - accuracy: 0.4130 - val_loss: 1.3080 - val_accuracy: 0.6154\n",
      "Epoch 12/20\n",
      "19/19 [==============================] - 1s 37ms/step - loss: 1.7051 - accuracy: 0.4696 - val_loss: 1.4477 - val_accuracy: 0.4983\n",
      "Epoch 13/20\n",
      "19/19 [==============================] - 1s 40ms/step - loss: 1.5647 - accuracy: 0.5004 - val_loss: 1.1065 - val_accuracy: 0.6087\n",
      "Epoch 14/20\n",
      "19/19 [==============================] - 1s 38ms/step - loss: 1.3607 - accuracy: 0.5262 - val_loss: 1.3025 - val_accuracy: 0.5452\n",
      "Epoch 15/20\n",
      "19/19 [==============================] - 1s 41ms/step - loss: 1.0121 - accuracy: 0.6220 - val_loss: 0.8573 - val_accuracy: 0.7659\n",
      "Epoch 16/20\n",
      "19/19 [==============================] - 1s 37ms/step - loss: 0.8904 - accuracy: 0.6811 - val_loss: 0.7198 - val_accuracy: 0.7525\n",
      "Epoch 17/20\n",
      "19/19 [==============================] - 1s 39ms/step - loss: 0.9679 - accuracy: 0.6503 - val_loss: 0.7277 - val_accuracy: 0.8361\n",
      "Epoch 18/20\n",
      "19/19 [==============================] - 1s 39ms/step - loss: 1.1565 - accuracy: 0.5920 - val_loss: 1.0059 - val_accuracy: 0.7157\n",
      "Epoch 19/20\n",
      "19/19 [==============================] - 1s 37ms/step - loss: 1.1362 - accuracy: 0.6028 - val_loss: 0.6542 - val_accuracy: 0.6890\n",
      "Epoch 20/20\n",
      "19/19 [==============================] - 1s 41ms/step - loss: 0.9088 - accuracy: 0.6761 - val_loss: 0.5245 - val_accuracy: 0.8094\n"
     ]
    }
   ],
   "source": [
    "\n",
    "attention_rnn = StandardAttention_RNN(run_mode='init-fine-tune', \n",
    "                                     cell_type='gru', \n",
    "                                     network_type='bi-directional', \n",
    "                                     state_sizes=[50, 50], \n",
    "                                     data_manager=dm)\n",
    "attention_rnn.build()\n",
    "attention_rnn.compile_model(optimizer='adam', loss='sparse_categorical_crossentropy', metrics=['accuracy'])\n",
    "\n",
    "history_attention_rnn = attention_rnn.fit(dm.tf_train_set.batch(64), \n",
    "                                          epochs=20, \n",
    "                                          validation_data=dm.tf_valid_set.batch(64))\n"
   ]
  },
  {
   "cell_type": "markdown",
   "metadata": {},
   "source": [
    "### <span style=\"color:#0b486b\">4.5. RNN with Self-Attention for Text and Sequence Classification</span> ###\n",
    "\n",
    "**In what follows, you are required to implement a RNN with the attention machenism for text and sequence classification. This attention mechanism is applied at the last hidden layer of our RNN. Specifically, let $h_1, h_2,...,h_{L-1}, h_L$ be the hidden states at the last hidden layer where $L$ is the sequence length.**\n",
    "\n",
    "**You need to implement the self-attention (SA) mechanism as in this paper [link](https://proceedings.neurips.cc/paper/2017/file/3f5ee243547dee91fbd053c1c4a845aa-Paper.pdf) and this useful blog [link](https://jalammar.github.io/illustrated-transformer/) to work out the new hidden states $h_1, h_2,...,h_{L-1}, h_L$. Finally, you need take average of them $\\bar{h}=\\frac{h_{1}+...+h_{L}}{L}$ and rely on $\\bar{h}$ to conduct the output layer for making predictions.**\n",
    "\n",
    "\n",
    "<div style=\"text-align: right\"><span style=\"color:red; font-weight:bold\">[Total marks for this part: 10 points]<span></div>"
   ]
  },
  {
   "cell_type": "markdown",
   "metadata": {},
   "source": [
    "#### <span style=\"color:red\">**Question 4.5.1.**</span>\n",
    "\n",
    "**We declare the  layer `MySelfAttention` as a class inherited from `tf.keras.layers.Layer` to realize our attention mechanism. You are required to provide the code for this class. Note that in the `def call(self, all_states, last_state)` method, `all_states` is the collection of all hidden states and `last_state` is the last hidden state.**\n",
    "\n",
    "**Please note that in the class `MySelfAttention`, `key_dim` is the parameter $d_k$ and `value_dim` is  the parameter $d_v$ in the main paper** \n",
    "\n",
    "\n",
    "<div style=\"text-align: right\"><span style=\"color:red\">[4 points]</span></div>"
   ]
  },
  {
   "cell_type": "code",
   "execution_count": 112,
   "metadata": {},
   "outputs": [],
   "source": [
    "class MySelfAttention(tf.keras.layers.Layer):\n",
    "    def __init__(self, key_dim=100, value_dim=50, **kwargs):\n",
    "        super(MySelfAttention, self).__init__(**kwargs)\n",
    "        self.key_dim = key_dim\n",
    "        self.value_dim = value_dim\n",
    "    \n",
    "    def build(self, input_shape):\n",
    "        # Create trainable weights for the layer\n",
    "        self.W_key = self.add_weight(name='W_key',\n",
    "                                     shape=(input_shape[-1], self.key_dim),\n",
    "                                     initializer='uniform',\n",
    "                                     trainable=True)\n",
    "        \n",
    "        self.W_value = self.add_weight(name='W_value',\n",
    "                                       shape=(input_shape[-1], self.value_dim),\n",
    "                                       initializer='uniform',\n",
    "                                       trainable=True)\n",
    "        \n",
    "        self.W_query = self.add_weight(name='W_query',\n",
    "                                       shape=(input_shape[-1], self.key_dim),\n",
    "                                       initializer='uniform',\n",
    "                                       trainable=True)\n",
    "        \n",
    "        super(MySelfAttention, self).build(input_shape)\n",
    "    \n",
    "    def call(self, all_states):\n",
    "        keys = tf.matmul(all_states, self.W_key)\n",
    "        values = tf.matmul(all_states, self.W_value)\n",
    "        queries = tf.matmul(all_states, self.W_query)\n",
    "\n",
    "        scores = tf.matmul(queries, keys, transpose_b=True) / tf.math.sqrt(float(self.key_dim))\n",
    "\n",
    "        attention_weights = tf.nn.softmax(scores, axis=-1)\n",
    "\n",
    "        context = tf.matmul(attention_weights, values)\n",
    "\n",
    "        return tf.reduce_mean(context, axis=1)\n"
   ]
  },
  {
   "cell_type": "markdown",
   "metadata": {},
   "source": [
    "#### <span style=\"color:red\">**Question 4.5.2**</span> \n",
    "\n",
    "**You are required to extend the class `RNN` in Section `4.3.1` to achieve the class `SelfAttention_RNN` in which the attention mechanism mentioned above is applied at the last hidden layer.**\n",
    "\n",
    "<div style=\"text-align: right\"><span style=\"color:red\">[4 points]</span></div>"
   ]
  },
  {
   "cell_type": "code",
   "execution_count": 113,
   "metadata": {},
   "outputs": [],
   "source": [
    "class SelfAttention_RNN:\n",
    "    def __init__(self, run_mode='scratch', cell_type='gru', network_type='uni-directional',\n",
    "                 embed_model='glove-wiki-gigaword-100', embed_size=100, state_sizes=[50, 50], data_manager=None):\n",
    "        \n",
    "        self.run_mode = run_mode\n",
    "        self.data_manager = data_manager\n",
    "        self.cell_type = cell_type\n",
    "        self.network_type = network_type\n",
    "        self.state_sizes = state_sizes\n",
    "        self.embed_model = embed_model\n",
    "        self.embed_size = embed_size\n",
    "        \n",
    "        if self.run_mode != 'scratch':\n",
    "            self.embed_size = int(self.embed_model.split(\"-\")[-1])\n",
    "        \n",
    "        self.vocab_size = data_manager.vocab_size + 1\n",
    "        self.word2idx = data_manager.word2idx\n",
    "        self.word2vect = None\n",
    "        self.embed_matrix = np.zeros(shape=[self.vocab_size, self.embed_size])\n",
    "\n",
    "        self.attention_layer = MySelfAttention(key_dim=self.embed_size, value_dim=self.embed_size)\n",
    "        self.word2idx = data_manager.word2idx\n",
    "        \n",
    "    def build_embedding_matrix(self):\n",
    "        if self.run_mode != 'scratch':\n",
    "            # load the pre-trained word2vec model\n",
    "            self.word2vect = api.load('glove-wiki-gigaword-100')\n",
    "            for word, i in self.word2idx.items():\n",
    "                if word in self.word2vect:\n",
    "                    self.embed_matrix[i] = self.word2vect[word]\n",
    "\n",
    "    @staticmethod\n",
    "    def get_layer(cell_type='gru', state_size=100, return_sequences=True, activation='tanh'):\n",
    "        if cell_type == 'gru':\n",
    "            return tf.keras.layers.Bidirectional(tf.keras.layers.GRU(state_size, \n",
    "                                                                      return_sequences=return_sequences,\n",
    "                                                                      activation=activation))\n",
    "        elif cell_type == 'lstm':\n",
    "            return tf.keras.layers.Bidirectional(tf.keras.layers.LSTM(state_size, \n",
    "                                                                       return_sequences=return_sequences,\n",
    "                                                                       activation=activation))\n",
    "        else:\n",
    "            return tf.keras.layers.Bidirectional(tf.keras.layers.SimpleRNN(state_size, \n",
    "                                                                           return_sequences=return_sequences,\n",
    "                                                                           activation=activation))\n",
    "\n",
    "    def build(self):\n",
    "        x = tf.keras.layers.Input(shape=(None,))\n",
    "        if self.run_mode == 'scratch':\n",
    "            emb_layer = tf.keras.layers.Embedding(self.vocab_size, self.embed_size)(x)\n",
    "        else:\n",
    "            self.build_embedding_matrix()\n",
    "            emb_layer = tf.keras.layers.Embedding(self.vocab_size, self.embed_size, weights=[self.embed_matrix], trainable=(self.run_mode == 'init-fine-tune'))(x)\n",
    "\n",
    "        h = emb_layer\n",
    "        for idx, size in enumerate(self.state_sizes):\n",
    "            return_sequences = True  # Always return sequences for the next attention layer\n",
    "            h = SelfAttention_RNN.get_layer(cell_type=self.cell_type, state_size=size, return_sequences=return_sequences)(h)\n",
    "\n",
    "        # Apply self attention mechanism\n",
    "        context_vector = self.attention_layer(h)\n",
    "        \n",
    "        output = tf.keras.layers.Dense(self.data_manager.num_classes, activation='softmax')(context_vector)\n",
    "        \n",
    "        self.model = tf.keras.Model(inputs=x, outputs=output)\n",
    "\n",
    "    def compile_model(self, *args, **kwargs):\n",
    "        self.model.compile(*args, **kwargs)\n",
    "\n",
    "    def fit(self, *args, **kwargs):\n",
    "        return self.model.fit(*args, **kwargs)\n",
    "\n",
    "    def evaluate(self, *args, **kwargs):\n",
    "        self.model.evaluate(*args, **kwargs)\n"
   ]
  },
  {
   "cell_type": "markdown",
   "metadata": {},
   "source": [
    "#### <span style=\"color:red\">**Question 4.5.3.**</span> \n",
    "\n",
    "**Choose a common setting for standard RNN and RNN with self attention and conduct experiments to compare them. A setting here means `cell_type`, `network_type`, and list of `state sizes`**.\n",
    "\n",
    "<div style=\"text-align: right\"><span style=\"color:red\">[2 points]</span></div>"
   ]
  },
  {
   "cell_type": "code",
   "execution_count": 115,
   "metadata": {},
   "outputs": [
    {
     "name": "stdout",
     "output_type": "stream",
     "text": [
      "Epoch 1/20\n",
      "19/19 [==============================] - 2s 110ms/step - loss: 1.7955 - accuracy: 0.2215 - val_loss: 1.7385 - val_accuracy: 0.2040\n",
      "Epoch 2/20\n",
      "19/19 [==============================] - 1s 42ms/step - loss: 1.7355 - accuracy: 0.2340 - val_loss: 1.6839 - val_accuracy: 0.2040\n",
      "Epoch 3/20\n",
      "19/19 [==============================] - 1s 38ms/step - loss: 1.6664 - accuracy: 0.2348 - val_loss: 1.6690 - val_accuracy: 0.2977\n",
      "Epoch 4/20\n",
      "19/19 [==============================] - 1s 37ms/step - loss: 1.6309 - accuracy: 0.3022 - val_loss: 1.6423 - val_accuracy: 0.2508\n",
      "Epoch 5/20\n",
      "19/19 [==============================] - 1s 39ms/step - loss: 1.6055 - accuracy: 0.2723 - val_loss: 1.6967 - val_accuracy: 0.3378\n",
      "Epoch 6/20\n",
      "19/19 [==============================] - 1s 37ms/step - loss: 1.5479 - accuracy: 0.3614 - val_loss: 1.4540 - val_accuracy: 0.4716\n",
      "Epoch 7/20\n",
      "19/19 [==============================] - 1s 41ms/step - loss: 1.2953 - accuracy: 0.5795 - val_loss: 1.2390 - val_accuracy: 0.4749\n",
      "Epoch 8/20\n",
      "19/19 [==============================] - 1s 37ms/step - loss: 0.8738 - accuracy: 0.7277 - val_loss: 0.8931 - val_accuracy: 0.6756\n",
      "Epoch 9/20\n",
      "19/19 [==============================] - 1s 39ms/step - loss: 0.4610 - accuracy: 0.8659 - val_loss: 0.4187 - val_accuracy: 0.8896\n",
      "Epoch 10/20\n",
      "19/19 [==============================] - 1s 38ms/step - loss: 0.2157 - accuracy: 0.9417 - val_loss: 0.6273 - val_accuracy: 0.8027\n",
      "Epoch 11/20\n",
      "19/19 [==============================] - 1s 37ms/step - loss: 0.1710 - accuracy: 0.9417 - val_loss: 0.4007 - val_accuracy: 0.8930\n",
      "Epoch 12/20\n",
      "19/19 [==============================] - 1s 41ms/step - loss: 0.1069 - accuracy: 0.9784 - val_loss: 0.2574 - val_accuracy: 0.9298\n",
      "Epoch 13/20\n",
      "19/19 [==============================] - 1s 39ms/step - loss: 0.0443 - accuracy: 0.9933 - val_loss: 0.4439 - val_accuracy: 0.8629\n",
      "Epoch 14/20\n",
      "19/19 [==============================] - 1s 40ms/step - loss: 0.0284 - accuracy: 0.9975 - val_loss: 0.2801 - val_accuracy: 0.9164\n",
      "Epoch 15/20\n",
      "19/19 [==============================] - 1s 37ms/step - loss: 0.0145 - accuracy: 1.0000 - val_loss: 0.2433 - val_accuracy: 0.9365\n",
      "Epoch 16/20\n",
      "19/19 [==============================] - 1s 40ms/step - loss: 0.0103 - accuracy: 1.0000 - val_loss: 0.2416 - val_accuracy: 0.9331\n",
      "Epoch 17/20\n",
      "19/19 [==============================] - 1s 38ms/step - loss: 0.0082 - accuracy: 1.0000 - val_loss: 0.2504 - val_accuracy: 0.9331\n",
      "Epoch 18/20\n",
      "19/19 [==============================] - 1s 37ms/step - loss: 0.0069 - accuracy: 1.0000 - val_loss: 0.2581 - val_accuracy: 0.9298\n",
      "Epoch 19/20\n",
      "19/19 [==============================] - 1s 42ms/step - loss: 0.0060 - accuracy: 1.0000 - val_loss: 0.2593 - val_accuracy: 0.9331\n",
      "Epoch 20/20\n",
      "19/19 [==============================] - 1s 38ms/step - loss: 0.0052 - accuracy: 1.0000 - val_loss: 0.2609 - val_accuracy: 0.9331\n"
     ]
    }
   ],
   "source": [
    "#Your trial here\n",
    "cell_type = 'gru'\n",
    "network_type = 'bi-directional'\n",
    "state_sizes = [64, 64]\n",
    "\n",
    "# Build and train the Standard RNN\n",
    "standard_rnn = StandardAttention_RNN(run_mode='scratch', \n",
    "                                    cell_type=cell_type, \n",
    "                                    network_type=network_type, \n",
    "                                    state_sizes=state_sizes, \n",
    "                                    data_manager=dm)\n",
    "\n",
    "standard_rnn.build()\n",
    "standard_rnn.compile_model(optimizer='adam', \n",
    "                           loss='sparse_categorical_crossentropy', \n",
    "                           metrics=['accuracy'])\n",
    "history_standard = standard_rnn.fit(dm.tf_train_set.batch(64), \n",
    "                                          epochs=20, \n",
    "                                          validation_data=dm.tf_valid_set.batch(64))"
   ]
  },
  {
   "cell_type": "code",
   "execution_count": 116,
   "metadata": {},
   "outputs": [
    {
     "name": "stdout",
     "output_type": "stream",
     "text": [
      "Epoch 1/20\n",
      "19/19 [==============================] - 2s 111ms/step - loss: 1.7045 - accuracy: 0.2040 - val_loss: 1.7074 - val_accuracy: 0.2040\n",
      "Epoch 2/20\n",
      "19/19 [==============================] - 1s 37ms/step - loss: 1.6867 - accuracy: 0.2057 - val_loss: 1.6980 - val_accuracy: 0.2140\n",
      "Epoch 3/20\n",
      "19/19 [==============================] - 1s 42ms/step - loss: 1.6551 - accuracy: 0.2065 - val_loss: 1.6990 - val_accuracy: 0.2140\n",
      "Epoch 4/20\n",
      "19/19 [==============================] - 1s 39ms/step - loss: 1.5340 - accuracy: 0.3122 - val_loss: 1.1309 - val_accuracy: 0.6054\n",
      "Epoch 5/20\n",
      "19/19 [==============================] - 1s 40ms/step - loss: 0.5483 - accuracy: 0.8535 - val_loss: 0.2781 - val_accuracy: 0.9097\n",
      "Epoch 6/20\n",
      "19/19 [==============================] - 1s 41ms/step - loss: 0.1294 - accuracy: 0.9617 - val_loss: 0.1365 - val_accuracy: 0.9398\n",
      "Epoch 7/20\n",
      "19/19 [==============================] - 1s 40ms/step - loss: 0.0459 - accuracy: 0.9850 - val_loss: 0.1017 - val_accuracy: 0.9632\n",
      "Epoch 8/20\n",
      "19/19 [==============================] - 1s 40ms/step - loss: 0.0228 - accuracy: 0.9950 - val_loss: 0.0966 - val_accuracy: 0.9666\n",
      "Epoch 9/20\n",
      "19/19 [==============================] - 1s 40ms/step - loss: 0.0077 - accuracy: 0.9992 - val_loss: 0.1340 - val_accuracy: 0.9599\n",
      "Epoch 10/20\n",
      "19/19 [==============================] - 1s 40ms/step - loss: 0.0049 - accuracy: 0.9992 - val_loss: 0.1094 - val_accuracy: 0.9666\n",
      "Epoch 11/20\n",
      "19/19 [==============================] - 1s 39ms/step - loss: 0.0024 - accuracy: 1.0000 - val_loss: 0.1215 - val_accuracy: 0.9666\n",
      "Epoch 12/20\n",
      "19/19 [==============================] - 1s 40ms/step - loss: 0.0015 - accuracy: 1.0000 - val_loss: 0.1152 - val_accuracy: 0.9632\n",
      "Epoch 13/20\n",
      "19/19 [==============================] - 1s 40ms/step - loss: 0.0010 - accuracy: 1.0000 - val_loss: 0.1212 - val_accuracy: 0.9666\n",
      "Epoch 14/20\n",
      "19/19 [==============================] - 1s 39ms/step - loss: 8.0110e-04 - accuracy: 1.0000 - val_loss: 0.1242 - val_accuracy: 0.9666\n",
      "Epoch 15/20\n",
      "19/19 [==============================] - 1s 41ms/step - loss: 6.5306e-04 - accuracy: 1.0000 - val_loss: 0.1264 - val_accuracy: 0.9666\n",
      "Epoch 16/20\n",
      "19/19 [==============================] - 1s 38ms/step - loss: 5.5395e-04 - accuracy: 1.0000 - val_loss: 0.1286 - val_accuracy: 0.9666\n",
      "Epoch 17/20\n",
      "19/19 [==============================] - 1s 40ms/step - loss: 4.8080e-04 - accuracy: 1.0000 - val_loss: 0.1306 - val_accuracy: 0.9666\n",
      "Epoch 18/20\n",
      "19/19 [==============================] - 1s 38ms/step - loss: 4.2361e-04 - accuracy: 1.0000 - val_loss: 0.1325 - val_accuracy: 0.9666\n",
      "Epoch 19/20\n",
      "19/19 [==============================] - 1s 42ms/step - loss: 3.7742e-04 - accuracy: 1.0000 - val_loss: 0.1342 - val_accuracy: 0.9666\n",
      "Epoch 20/20\n",
      "19/19 [==============================] - 1s 40ms/step - loss: 3.3931e-04 - accuracy: 1.0000 - val_loss: 0.1358 - val_accuracy: 0.9666\n"
     ]
    }
   ],
   "source": [
    "self_attention_rnn = SelfAttention_RNN(run_mode='scratch', \n",
    "                                      cell_type=cell_type, \n",
    "                                      network_type=network_type, \n",
    "                                      state_sizes=state_sizes, \n",
    "                                      data_manager=dm)\n",
    "\n",
    "self_attention_rnn.build()\n",
    "self_attention_rnn.compile_model(optimizer='adam', \n",
    "                                 loss='sparse_categorical_crossentropy', \n",
    "                                 metrics=['accuracy'])\n",
    "\n",
    "\n",
    "history_self_attention = self_attention_rnn.fit(dm.tf_train_set.batch(64), \n",
    "                                          epochs=20, \n",
    "                                          validation_data=dm.tf_valid_set.batch(64))\n"
   ]
  },
  {
   "cell_type": "markdown",
   "metadata": {},
   "source": [
    "### <span style=\"color:#0b486b\">4.6. Investigating the embedding vectors from the embedding matrix</span> ###\n",
    "\n",
    "<div style=\"text-align: right\"><span style=\"color:red; font-weight:bold\">[Total marks for this part: 10 points]<span></div>"
   ]
  },
  {
   "cell_type": "markdown",
   "metadata": {},
   "source": [
    "**As you know, the embedding matrix is a collection of embedding vectors, each is for one word. In this part, you will base on the cosine similarity of the embedding vectors for the words to find the top-k most relevant words for a given word.**\n",
    "\n",
    "**Good embeddings should have words close in meaning near each other by some similarity metrics. The similarity metric we'll use is the `consine` similarity, which is defined for two vector $\\mathbf{u}$ and $\\mathbf{v}$ as $\\cos(\\mathbf{u}, \\mathbf{v})=\\frac{\\mathbf{u} \\cdot \\mathbf{v}}{\\left\\Vert{\\mathbf{u}}\\right\\Vert\\left\\Vert{\\mathbf{v}}\\right\\Vert}$ where $\\cdot$ means dot product and $\\left\\Vert\\cdot\\right\\Vert$ means the $\\mathcal{L}_2$ norm.**"
   ]
  },
  {
   "cell_type": "code",
   "execution_count": 131,
   "metadata": {},
   "outputs": [],
   "source": [
    "def cosine_similarity(u,v):\n",
    "    return np.dot(u,v)/(np.linalg.norm(u)*np.linalg.norm(v))"
   ]
  },
  {
   "cell_type": "markdown",
   "metadata": {},
   "source": [
    "##### <span style=\"color:red\">**Question 4.6.1**</span> \n",
    "\n",
    "**You are required to write the code for the function `find_most_similar(word= None, k=5, model= None)`. As its name, this function returns the `top-k most relevant word` for a given word based on the cosine similarity of the embedding vectors.**\n",
    "\n",
    "<div style=\"text-align: right\"><span style=\"color:red\">[5 points]</span></div>"
   ]
  },
  {
   "cell_type": "code",
   "execution_count": 132,
   "metadata": {},
   "outputs": [],
   "source": [
    "def find_most_similar(word=None, k=5, model=None):\n",
    "\n",
    "    if word not in model.word2idx:\n",
    "        print(\"Word is not in the dictionary!\")\n",
    "        return\n",
    "\n",
    "    word_embedding = model.embed_matrix[model.word2idx[word]]\n",
    "    similarities = {}\n",
    "\n",
    "    for vocab_word, idx in model.word2idx.items():\n",
    "        if vocab_word != word:  # We skip the word itself\n",
    "            vocab_word_embedding = model.embed_matrix[idx]\n",
    "            similarity = cosine_similarity(word_embedding, vocab_word_embedding)\n",
    "            similarities[vocab_word] = similarity\n",
    "\n",
    "    sorted_words = sorted(similarities, key=similarities.get, reverse=True)[:k]\n",
    "    for word in sorted_words:\n",
    "        print(word, similarities[word])"
   ]
  },
  {
   "cell_type": "markdown",
   "metadata": {},
   "source": [
    "Here is the example of the above function. As you can observe, the result makes sense which demonstrates that we obtain a good model with the meaningful embedding matrix."
   ]
  },
  {
   "cell_type": "code",
   "execution_count": 133,
   "metadata": {},
   "outputs": [
    {
     "name": "stdout",
     "output_type": "stream",
     "text": [
      "russia 0.66538865098021\n",
      "italy 0.627512091962913\n",
      "soviet 0.6134157936125213\n",
      "canada 0.5397791371211339\n",
      "berlin 0.5245552092730779\n"
     ]
    },
    {
     "name": "stderr",
     "output_type": "stream",
     "text": [
      "D:\\Anaconda\\envs\\tensorflow2\\lib\\site-packages\\ipykernel_launcher.py:2: RuntimeWarning: invalid value encountered in double_scalars\n",
      "  \n"
     ]
    }
   ],
   "source": [
    "find_most_similar(word='poland', k=5, model= my_best_rnn)"
   ]
  },
  {
   "cell_type": "markdown",
   "metadata": {},
   "source": [
    "#### <span style=\"color:red\">**Question 4.6.2**</span> \n",
    "​\n",
    "**You are required to write the code for the function `plot3D_with_labels(word= None, model= None, k= 10)`. As its name, this function visualizes the `top-k most relevant word` for a given word based on the cosine similarity of the embedding vectors by using tSNE to project the embedding vectors to a 3D space.**\n",
    "​\n",
    "\n",
    "<img src=\"./images/3D_plots.png\" align=\"center\" width=600/>\n",
    "<div style=\"text-align: right\"><span style=\"color:red\">[5 points]</span></div>"
   ]
  },
  {
   "cell_type": "code",
   "execution_count": 136,
   "metadata": {},
   "outputs": [],
   "source": [
    "from mpl_toolkits.mplot3d import Axes3D\n",
    "from sklearn.manifold import TSNE\n",
    "tsne = TSNE(perplexity=30, n_components=3, init='pca', n_iter=5000)\n",
    "def plot3D_with_labels(word=None, model=None, k=10):\n",
    "    if word not in model.word2idx:\n",
    "        print(\"Word is not in the dictionary!\")\n",
    "        return\n",
    "\n",
    "    word_embedding = model.embed_matrix[model.word2idx[word]]\n",
    "    similarities = {}\n",
    "\n",
    "    for vocab_word, idx in model.word2idx.items():\n",
    "        if vocab_word != word:\n",
    "            vocab_word_embedding = model.embed_matrix[idx]\n",
    "            similarity = cosine_similarity(word_embedding, vocab_word_embedding)\n",
    "            similarities[vocab_word] = similarity\n",
    "\n",
    "    sorted_words = sorted(similarities, key=similarities.get, reverse=True)[:k]\n",
    "    \n",
    "    embeddings = [model.embed_matrix[model.word2idx[word]] for word in sorted_words]\n",
    "    embeddings.append(word_embedding)  \n",
    "    \n",
    "    labels = sorted_words + [word]\n",
    "    \n",
    "    tsne = TSNE(perplexity=30, n_components=3, init='pca', n_iter=5000)\n",
    "    reduced_embeddings = tsne.fit_transform(embeddings)\n",
    "\n",
    "    fig = plt.figure(figsize=(12, 8))\n",
    "    ax = fig.add_subplot(111, projection='3d')\n",
    "    for i, label in enumerate(labels):\n",
    "        x, y, z = reduced_embeddings[i, :]\n",
    "        ax.scatter(x, y, z, s=100)\n",
    "        ax.text(x, y, z, label)\n",
    "    plt.show()"
   ]
  },
  {
   "cell_type": "code",
   "execution_count": 137,
   "metadata": {},
   "outputs": [
    {
     "name": "stderr",
     "output_type": "stream",
     "text": [
      "D:\\Anaconda\\envs\\tensorflow2\\lib\\site-packages\\ipykernel_launcher.py:2: RuntimeWarning: invalid value encountered in double_scalars\n",
      "  \n",
      "D:\\Anaconda\\envs\\tensorflow2\\lib\\site-packages\\sklearn\\manifold\\_t_sne.py:793: FutureWarning: The default learning rate in TSNE will change from 200.0 to 'auto' in 1.2.\n",
      "  FutureWarning,\n",
      "D:\\Anaconda\\envs\\tensorflow2\\lib\\site-packages\\sklearn\\manifold\\_t_sne.py:986: FutureWarning: The PCA initialization in TSNE will change to have the standard deviation of PC1 equal to 1e-4 in 1.2. This will ensure better convergence.\n",
      "  FutureWarning,\n"
     ]
    },
    {
     "data": {
      "image/png": "[encoded data removed]",
      "text/plain": [
       "<Figure size 1200x800 with 1 Axes>"
      ]
     },
     "metadata": {},
     "output_type": "display_data"
    }
   ],
   "source": [
    "plot3D_with_labels(word='poland', k=20, model= rnn)"
   ]
  },
  {
   "cell_type": "markdown",
   "metadata": {},
   "source": [
    "--- \n",
    "<div style=\"text-align: center\"> <span style=\"color:green\">GOOD LUCK WITH YOUR ASSIGNMENT 2!</span> </div>\n",
    "<div style=\"text-align: center\"> <span style=\"color:black\">END OF ASSIGNMENT</span> </div>"
   ]
  }
 ],
 "metadata": {
  "kernelspec": {
   "display_name": "Python 3 (ipykernel)",
   "language": "python",
   "name": "python3"
  },
  "language_info": {
   "codemirror_mode": {
    "name": "ipython",
    "version": 3
   },
   "file_extension": ".py",
   "mimetype": "text/x-python",
   "name": "python",
   "nbconvert_exporter": "python",
   "pygments_lexer": "ipython3",
   "version": "3.11.3"
  }
 },
 "nbformat": 4,
 "nbformat_minor": 4
}
